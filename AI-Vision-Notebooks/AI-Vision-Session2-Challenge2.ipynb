{
 "cells": [
  {
   "cell_type": "markdown",
   "id": "6d0fc213",
   "metadata": {
    "deletable": false,
    "editable": false,
    "slideshow": {
     "slide_type": ""
    },
    "tags": []
   },
   "source": [
    "# ML2 - Session 2 - Challenge"
   ]
  },
  {
   "cell_type": "markdown",
   "id": "9c1806b9",
   "metadata": {
    "deletable": false,
    "editable": false
   },
   "source": [
    "## The tech startup that created a fashion application wants to add more items to suggest to their users. They want to start using neural networks for providing recommendations to customers based on a picture they took. Using neural networks instead of KNN with the larger number of classes will produce a more accurate ML model. \n",
    "<img style=\"float: center; /\"  width = \"1000\"  src=\"Notebook Images/ML-M2-Session2-Challenge-Image1.png\">\n",
    "\n",
    "## Your task is to create, train and test an artificial neural network on the fashion MNIST dataset which has 10 classes as shown bellow:\n",
    "<img style=\"float: center; /\"  width = \"1000\"  src=\"Notebook Images/ML-M2-Session2-Challenge-Image2.png\">\n",
    "\n",
    "## What you need to do:\n",
    "1. Load & show the fashion MNIST dataset\n",
    "2. Create & train a neural network model\n",
    "3. Test & evaluate the model"
   ]
  },
  {
   "cell_type": "markdown",
   "id": "f4f21334",
   "metadata": {
    "deletable": false,
    "editable": false,
    "id": 1
   },
   "source": [
    "### 1. Load & show the fashion MNIST dataset"
   ]
  },
  {
   "cell_type": "markdown",
   "id": "b70e4004",
   "metadata": {
    "deletable": false,
    "editable": false
   },
   "source": [
    "1.1 Load the dataset using the __*load(filename, numner_of_images)*__ function. filename = \"fashion_mnist\". Experiment with three data sizes: [10000, 30000, 60000]"
   ]
  },
  {
   "cell_type": "code",
   "execution_count": 1,
   "id": "b5c43ac7",
   "metadata": {},
   "outputs": [],
   "source": [
    "data_df = load(\"fashion_mnist\", 10000)"
   ]
  },
  {
   "cell_type": "markdown",
   "id": "53376432",
   "metadata": {
    "deletable": false,
    "editable": false
   },
   "source": [
    "1.2 Show the dataset in a table format using the __*show(data)*__ function"
   ]
  },
  {
   "cell_type": "code",
   "execution_count": 2,
   "id": "efc3bb44",
   "metadata": {},
   "outputs": [
    {
     "name": "stdout",
     "output_type": "stream",
     "text": [
      "Showing the first 10 rows\n"
     ]
    },
    {
     "data": {
      "text/html": [
       "<table border=\"1\" class=\"dataframe\">\n",
       "  <thead>\n",
       "    <tr style=\"text-align: right;\">\n",
       "      <th>Image</th>\n",
       "      <th>ClassName</th>\n",
       "    </tr>\n",
       "  </thead>\n",
       "  <tbody>\n",
       "    <tr>\n",
       "      <td><img src=\"data:image/jpeg;base64,/9j/4AAQSkZJRgABAQAAAQABAAD/2wBDAAgGBgcGBQgHBwcJCQgKDBQNDAsLDBkSEw8UHRofHh0aHBwgJC4nICIsIxwcKDcpLDAxNDQ0Hyc5PTgyPC4zNDL/2wBDAQkJCQwLDBgNDRgyIRwhMjIyMjIyMjIyMjIyMjIyMjIyMjIyMjIyMjIyMjIyMjIyMjIyMjIyMjIyMjIyMjIyMjL/wAARCAAyADIDASIAAhEBAxEB/8QAHwAAAQUBAQEBAQEAAAAAAAAAAAECAwQFBgcICQoL/8QAtRAAAgEDAwIEAwUFBAQAAAF9AQIDAAQRBRIhMUEGE1FhByJxFDKBkaEII0KxwRVS0fAkM2JyggkKFhcYGRolJicoKSo0NTY3ODk6Q0RFRkdISUpTVFVWV1hZWmNkZWZnaGlqc3R1dnd4eXqDhIWGh4iJipKTlJWWl5iZmqKjpKWmp6ipqrKztLW2t7i5usLDxMXGx8jJytLT1NXW19jZ2uHi4+Tl5ufo6erx8vP09fb3+Pn6/8QAHwEAAwEBAQEBAQEBAQAAAAAAAAECAwQFBgcICQoL/8QAtREAAgECBAQDBAcFBAQAAQJ3AAECAxEEBSExBhJBUQdhcRMiMoEIFEKRobHBCSMzUvAVYnLRChYkNOEl8RcYGRomJygpKjU2Nzg5OkNERUZHSElKU1RVVldYWVpjZGVmZ2hpanN0dXZ3eHl6goOEhYaHiImKkpOUlZaXmJmaoqOkpaanqKmqsrO0tba3uLm6wsPExcbHyMnK0tPU1dbX2Nna4uPk5ebn6Onq8vP09fb3+Pn6/9oADAMBAAIRAxEAPwD5/opSpHakoAKKKUHr70AAz2pw4HJPtj1qzp+mXuq3QtbG3eeYgnYg7V2cvwyv9M8J3WuavOli8a5gtZDl5W9sUAcFhPU0UufdfyooAUndgZ6HABoZeDk5YdfpW74O0KLxJ4mstNuJRFDIw3v3Iz0r2vXfhDZXugz2ml2jQXVs58u5fGHXoAe5oA+dcfLnjFbvh3wtqHiO7SGzt5ZAx4ITj8TXqeg/AqQ3sb6tN5MKHLK38f0r2Cw0q00Sxa00a1jtyqFUbABJx1J9KAPHbjUdK+DtgtvYeTd+Ip0IlAIZYffPr7V5Rrev6t4l1E3F9dSXMrnCqP8AAV32q6H4J8PTXUviTWLjXtXaXc8Wnybdv+8WHPavWvBXhjwjc6PYalp+joonXzFNyoZwcZxmgD5fGg6uRkabdY/65GivRbz4g6lDfXEStbhUkZQNvYGigCXwVZeBdG1K01p/E10zxnPkvbBe/wBa9qi8a+F74+bDr8SbuQrkL/WvjvPsKSgD7GvPFnhqxsmuZtbtzEvJEMgdj+Ga8Y+Ifxil1u3fSPDpe201/llnIw8w9MdvwryHPORxRk0ASPIz8ud2M4JPNfU/gLxHoun+CtHhutWtI5Ehy0fmrkHbXynS5oAs6jJv1O7dWyrTOQc9Rk0VWz9KKAEooooAKKKKACiiigAooooA/9k=\"></td>\n",
       "      <td>Sandal</td>\n",
       "    </tr>\n",
       "    <tr>\n",
       "      <td><img src=\"data:image/jpeg;base64,/9j/4AAQSkZJRgABAQAAAQABAAD/2wBDAAgGBgcGBQgHBwcJCQgKDBQNDAsLDBkSEw8UHRofHh0aHBwgJC4nICIsIxwcKDcpLDAxNDQ0Hyc5PTgyPC4zNDL/2wBDAQkJCQwLDBgNDRgyIRwhMjIyMjIyMjIyMjIyMjIyMjIyMjIyMjIyMjIyMjIyMjIyMjIyMjIyMjIyMjIyMjIyMjL/wAARCAAyADIDASIAAhEBAxEB/8QAHwAAAQUBAQEBAQEAAAAAAAAAAAECAwQFBgcICQoL/8QAtRAAAgEDAwIEAwUFBAQAAAF9AQIDAAQRBRIhMUEGE1FhByJxFDKBkaEII0KxwRVS0fAkM2JyggkKFhcYGRolJicoKSo0NTY3ODk6Q0RFRkdISUpTVFVWV1hZWmNkZWZnaGlqc3R1dnd4eXqDhIWGh4iJipKTlJWWl5iZmqKjpKWmp6ipqrKztLW2t7i5usLDxMXGx8jJytLT1NXW19jZ2uHi4+Tl5ufo6erx8vP09fb3+Pn6/8QAHwEAAwEBAQEBAQEBAQAAAAAAAAECAwQFBgcICQoL/8QAtREAAgECBAQDBAcFBAQAAQJ3AAECAxEEBSExBhJBUQdhcRMiMoEIFEKRobHBCSMzUvAVYnLRChYkNOEl8RcYGRomJygpKjU2Nzg5OkNERUZHSElKU1RVVldYWVpjZGVmZ2hpanN0dXZ3eHl6goOEhYaHiImKkpOUlZaXmJmaoqOkpaanqKmqsrO0tba3uLm6wsPExcbHyMnK0tPU1dbX2Nna4uPk5ebn6Onq8vP09fb3+Pn6/9oADAMBAAIRAxEAPwDwWGKSaVIYxl3O1RXrWh+CtL02xge/s1u7l8MWZiPLPpxXC+BtPGpeKbZBwYgZsnpla9quLWYR/azG2x2K5B4J+lAGvFBp+u6P9kutOt7i4ijK2weQgB/4Tx2B71U03wxaaNYC88QaNp66sjHa8FwWDJ2/GsfzJ4mDRhht4Gw4I/8ArU+eS5ugrTSMzrwGJ+UD6UAZmteHtI1+7eW4s1jmk489GJx6V4/r2iz6Dq0llNkgfNG/99exr3e1srq5eUQQ7yg+dB/CK4L4pWA+y2Woc7g3kYPUADOKAPM9xop34UUAdB4Q1+30DUzPcWqyowwW3HKj2HevWNN8Waf4q8TSnTjKlrDZxr5brjLg8mvBtwyTgZr0X4TRH7bqlweiwKAT3OaAPSjjeRtwKUJkbVIBPrQQdu496bgbQSuT2oAz9f1xvD2nw38UrpE1xGsm1c/Jn5q4zx5400PV7SSz0mB5/NYt5kqlfL+lbnxFDyeB5X4AE6ZUfWvGFkKA4A5GKADC+rflRS7o/R/zooAYBnJ9K9d+GlqF8Mvc4G6SZkPuBXkf06mvbPAcJg8JwxhSdzlsZ7mgDpgo242r/wB9U30woGPQ09Y5e0H6il8mZgQIT74IoAwvFFr9s8N3kBGQFMn5CvBq+jL+CVtNukYKoaB1OT2Ir55uofIuJIuyMQKAIaKKKACvRtDkddCt8Ow57GiigDRM823/AFr/APfRrPurmcbcTSDn+8aKKAIYJ5mWXMsh/dt1Y1wc5zNJn+8aKKAIqKKKAP/Z\"></td>\n",
       "      <td>T-shirt/top</td>\n",
       "    </tr>\n",
       "    <tr>\n",
       "      <td><img src=\"data:image/jpeg;base64,/9j/4AAQSkZJRgABAQAAAQABAAD/2wBDAAgGBgcGBQgHBwcJCQgKDBQNDAsLDBkSEw8UHRofHh0aHBwgJC4nICIsIxwcKDcpLDAxNDQ0Hyc5PTgyPC4zNDL/2wBDAQkJCQwLDBgNDRgyIRwhMjIyMjIyMjIyMjIyMjIyMjIyMjIyMjIyMjIyMjIyMjIyMjIyMjIyMjIyMjIyMjIyMjL/wAARCAAyADIDASIAAhEBAxEB/8QAHwAAAQUBAQEBAQEAAAAAAAAAAAECAwQFBgcICQoL/8QAtRAAAgEDAwIEAwUFBAQAAAF9AQIDAAQRBRIhMUEGE1FhByJxFDKBkaEII0KxwRVS0fAkM2JyggkKFhcYGRolJicoKSo0NTY3ODk6Q0RFRkdISUpTVFVWV1hZWmNkZWZnaGlqc3R1dnd4eXqDhIWGh4iJipKTlJWWl5iZmqKjpKWmp6ipqrKztLW2t7i5usLDxMXGx8jJytLT1NXW19jZ2uHi4+Tl5ufo6erx8vP09fb3+Pn6/8QAHwEAAwEBAQEBAQEBAQAAAAAAAAECAwQFBgcICQoL/8QAtREAAgECBAQDBAcFBAQAAQJ3AAECAxEEBSExBhJBUQdhcRMiMoEIFEKRobHBCSMzUvAVYnLRChYkNOEl8RcYGRomJygpKjU2Nzg5OkNERUZHSElKU1RVVldYWVpjZGVmZ2hpanN0dXZ3eHl6goOEhYaHiImKkpOUlZaXmJmaoqOkpaanqKmqsrO0tba3uLm6wsPExcbHyMnK0tPU1dbX2Nna4uPk5ebn6Onq8vP09fb3+Pn6/9oADAMBAAIRAxEAPwD5/opcGjB59qAEopcHOMVNbWdxdsywRlyoycdhQBBRSkEdRRg+lACUU7Y3pRQAuMnsMdeafGkkmfLjZ8cnAzWsthpzKiyTmOQKdxPRj2xVqxnuorCa2tLVHAPzTYGSvtQBjrZkRhnb92xyWXmtYaWsMNvNayyqHb5m2/dHqfarenX8UXmlrRElKlQkq5j5749aa19qcenGF4YmgL5DIMFs/wAP0oAo6j4X1SwnRZI02zcxujZVvx9arJoOofaY7e4t3tN5wrTgorH2Jrq7jw/rlvp1j9u1Bfs08q7Y93zQAnqPSrEd9pltql7Bql3dasII/Ls2eTciOD94g9sUAc7/AMI8BwZo8j/aoqlILhpGIuYwCSQMGigCsmrTqoVgsg9xipP7St2zvtiPUBjzWXnge1GTQBsDVYAu0RYT06006lbnKmAmM9fmNZOTQGK9PyoA1DqSbvNaNpC3YyngUHVIlHy2wJPq1Ze7g8DmkzQBp/2rH/z6r/31RWZRQAUUUUAFFFFABRRRQAUUUUAf/9k=\"></td>\n",
       "      <td>Sneaker</td>\n",
       "    </tr>\n",
       "    <tr>\n",
       "      <td><img src=\"data:image/jpeg;base64,/9j/4AAQSkZJRgABAQAAAQABAAD/2wBDAAgGBgcGBQgHBwcJCQgKDBQNDAsLDBkSEw8UHRofHh0aHBwgJC4nICIsIxwcKDcpLDAxNDQ0Hyc5PTgyPC4zNDL/2wBDAQkJCQwLDBgNDRgyIRwhMjIyMjIyMjIyMjIyMjIyMjIyMjIyMjIyMjIyMjIyMjIyMjIyMjIyMjIyMjIyMjIyMjL/wAARCAAyADIDASIAAhEBAxEB/8QAHwAAAQUBAQEBAQEAAAAAAAAAAAECAwQFBgcICQoL/8QAtRAAAgEDAwIEAwUFBAQAAAF9AQIDAAQRBRIhMUEGE1FhByJxFDKBkaEII0KxwRVS0fAkM2JyggkKFhcYGRolJicoKSo0NTY3ODk6Q0RFRkdISUpTVFVWV1hZWmNkZWZnaGlqc3R1dnd4eXqDhIWGh4iJipKTlJWWl5iZmqKjpKWmp6ipqrKztLW2t7i5usLDxMXGx8jJytLT1NXW19jZ2uHi4+Tl5ufo6erx8vP09fb3+Pn6/8QAHwEAAwEBAQEBAQEBAQAAAAAAAAECAwQFBgcICQoL/8QAtREAAgECBAQDBAcFBAQAAQJ3AAECAxEEBSExBhJBUQdhcRMiMoEIFEKRobHBCSMzUvAVYnLRChYkNOEl8RcYGRomJygpKjU2Nzg5OkNERUZHSElKU1RVVldYWVpjZGVmZ2hpanN0dXZ3eHl6goOEhYaHiImKkpOUlZaXmJmaoqOkpaanqKmqsrO0tba3uLm6wsPExcbHyMnK0tPU1dbX2Nna4uPk5ebn6Onq8vP09fb3+Pn6/9oADAMBAAIRAxEAPwDwa3jNxcRxKMvIwX869lhs7eRLSBrBJJlgWMqzEA4FeS6HDJPrllHGuWEqnj617Mj51OaaFGf7IoL4PAOcUAYJi02y1LEmkpJCh/1DMQA/Y5qxqT6ZM8dy2mRLd5wAHO0L25putwH+13dXLb1znPFUsCYJAQxbpuz3oA27bTrGCwF0bBFI6MGPWuR+JdqrTafqUYAWSJYzj1AzXoEFrI/h2Wy3hljYHefX0ri/G8TS+D7Q4+aG6YNjsMUAea7feikwaKAOq+Htulx4rjRugiZgffivSdGuBb2uupjc07eWG9MNXnnw2IHiiRiMhbWRsfQCvQfDIWWDU3ZTtdsrnsc0AVvECeXf3O3/AJZ7R+YqhZAF5HPREB/WtbXFze6lnkqVP/jtZWmoX069fuY1x+dAHT5dIL6JT/dcfQCuX1yNbrwjqXOfKXzfxJxXa2QSbUimwt5lo2R7hetcbfRH/hF/EKKf9XBz/wB9CgDyLNFLxRQB13w3/wCRocf3raQfyr0fQYTFb3q5/j/rXnPgR7Oy1SW8uLyOKRImCo3evRdC33cN3dWciXMCAPK6HATJ75oAfrqhb/UG7MB/6DWRpgK+H7tgPmPC/mK2tbieWO7lVCBgHJI54rNhhdPCnmnA3PjAIz2oA6q0VjqaGDCubZsZ9Mc1x+tQ+X4Z1+Qtt3RY+vIrrJRIsqzMwhMVucncOmK5O5vdMv8AQdTtZdRhCvDlT3JzQB48AcfdopWYqxUNkA4BooAkPFspHB9acLmeJGWOaRFZRkKxANFFAHTa/cTDS48Sychc/Ma5yK4n+ySL50m3PTccUUUAQ/a7k5zcSnIwcuaYztgDccY9aKKAGUUUUAf/2Q==\"></td>\n",
       "      <td>Shirt</td>\n",
       "    </tr>\n",
       "    <tr>\n",
       "      <td><img src=\"data:image/jpeg;base64,/9j/4AAQSkZJRgABAQAAAQABAAD/2wBDAAgGBgcGBQgHBwcJCQgKDBQNDAsLDBkSEw8UHRofHh0aHBwgJC4nICIsIxwcKDcpLDAxNDQ0Hyc5PTgyPC4zNDL/2wBDAQkJCQwLDBgNDRgyIRwhMjIyMjIyMjIyMjIyMjIyMjIyMjIyMjIyMjIyMjIyMjIyMjIyMjIyMjIyMjIyMjIyMjL/wAARCAAyADIDASIAAhEBAxEB/8QAHwAAAQUBAQEBAQEAAAAAAAAAAAECAwQFBgcICQoL/8QAtRAAAgEDAwIEAwUFBAQAAAF9AQIDAAQRBRIhMUEGE1FhByJxFDKBkaEII0KxwRVS0fAkM2JyggkKFhcYGRolJicoKSo0NTY3ODk6Q0RFRkdISUpTVFVWV1hZWmNkZWZnaGlqc3R1dnd4eXqDhIWGh4iJipKTlJWWl5iZmqKjpKWmp6ipqrKztLW2t7i5usLDxMXGx8jJytLT1NXW19jZ2uHi4+Tl5ufo6erx8vP09fb3+Pn6/8QAHwEAAwEBAQEBAQEBAQAAAAAAAAECAwQFBgcICQoL/8QAtREAAgECBAQDBAcFBAQAAQJ3AAECAxEEBSExBhJBUQdhcRMiMoEIFEKRobHBCSMzUvAVYnLRChYkNOEl8RcYGRomJygpKjU2Nzg5OkNERUZHSElKU1RVVldYWVpjZGVmZ2hpanN0dXZ3eHl6goOEhYaHiImKkpOUlZaXmJmaoqOkpaanqKmqsrO0tba3uLm6wsPExcbHyMnK0tPU1dbX2Nna4uPk5ebn6Onq8vP09fb3+Pn6/9oADAMBAAIRAxEAPwDwLOMfLgjvSqNxAGck4NNzxjnHeut+Hmj6drvi20ttRvoraLeMRuD+9PpQB7n4I+H2gaBYaXqNxYF9TMe5nJPDHpXXa1pen67pctlq9v8AaIGbdsBPyn14rQmjVZQrDcgUKgU8AY600oCMAEn+dAHzP8WPCWneFNZsxpQZLW6jZ9p7YIrzpjk+3avp/wCMmk6Ve+ClmvrmC0uLc/uJGGS5/ujHPNfMB5NACUUUUAFORijhlYqR0I6im0UAfUnwfuL678B+deXTTM0g2BuTtHWu+GBIjqNvJwK4v4UxCL4XaRIgXzJN3OOfvGuzkX5k5PHFAHyz8V5ryPx5qNhcXLyR27jYhPAyAf61wpOSTXe/GKMx/E7VGbkOVI/75FcETmgBKKKKAClFJSr1FAH1n8LImj+Geiq391j/AOPGuvkGCv1rlfhldR3vw50h4htRFZNpPOc110kbtIFK7SFySTwMUAfM3xyhEXxBnf8AvqD+grzGu9+K/iWy8UeL5bmyhlRIcxuXIO4jjj8q4I9eaACiiigAp8f+sFFFAHuPwNkkPhXxMC7YQDaM9PlPSu6jmlPwzuJDI+/DfNuOenrRRQB8rTkmeQk8lz/OoqKKACiiigD/2Q==\"></td>\n",
       "      <td>Dress</td>\n",
       "    </tr>\n",
       "    <tr>\n",
       "      <td><img src=\"data:image/jpeg;base64,/9j/4AAQSkZJRgABAQAAAQABAAD/2wBDAAgGBgcGBQgHBwcJCQgKDBQNDAsLDBkSEw8UHRofHh0aHBwgJC4nICIsIxwcKDcpLDAxNDQ0Hyc5PTgyPC4zNDL/2wBDAQkJCQwLDBgNDRgyIRwhMjIyMjIyMjIyMjIyMjIyMjIyMjIyMjIyMjIyMjIyMjIyMjIyMjIyMjIyMjIyMjIyMjL/wAARCAAyADIDASIAAhEBAxEB/8QAHwAAAQUBAQEBAQEAAAAAAAAAAAECAwQFBgcICQoL/8QAtRAAAgEDAwIEAwUFBAQAAAF9AQIDAAQRBRIhMUEGE1FhByJxFDKBkaEII0KxwRVS0fAkM2JyggkKFhcYGRolJicoKSo0NTY3ODk6Q0RFRkdISUpTVFVWV1hZWmNkZWZnaGlqc3R1dnd4eXqDhIWGh4iJipKTlJWWl5iZmqKjpKWmp6ipqrKztLW2t7i5usLDxMXGx8jJytLT1NXW19jZ2uHi4+Tl5ufo6erx8vP09fb3+Pn6/8QAHwEAAwEBAQEBAQEBAQAAAAAAAAECAwQFBgcICQoL/8QAtREAAgECBAQDBAcFBAQAAQJ3AAECAxEEBSExBhJBUQdhcRMiMoEIFEKRobHBCSMzUvAVYnLRChYkNOEl8RcYGRomJygpKjU2Nzg5OkNERUZHSElKU1RVVldYWVpjZGVmZ2hpanN0dXZ3eHl6goOEhYaHiImKkpOUlZaXmJmaoqOkpaanqKmqsrO0tba3uLm6wsPExcbHyMnK0tPU1dbX2Nna4uPk5ebn6Onq8vP09fb3+Pn6/9oADAMBAAIRAxEAPwD5/pVzkY60lKOvXFADhkEY79hVttJ1FYxIbG4CkZVvLOMVf8J6Y2seKtPtUQFTOjOCM4UEZr65S0st3kra2jQRJ5eDFnKigD4sOARnn1B7UABu564r640/wX4Y+zmR9Ct2kkLEs0YIHNea/HHQNP0nRNLuNO06C2R5zGzQxhc4XPagDxLK/wB4/lRSbPcUUAMoFO2HvxVrTNMutW1KCxsomluJm2qqjmgD1f4FaHv1G98QSQlorZDAgI6lh1/Svc7dnWCWRgEbbzn0rG8MaDbeEvDlvpkbbmjA+0uvRnPI/KtiY/6BK5zl/lBPpQA/zvKt403daw/G2hnxH4M1HT1i8ybyy9uT2f8A/VW84iGOVIQA5I60+G/jFzGFBIO7BXp0NAHxJIjRSvG33lYqfqKK6nUNP0Y6ndEzuCZnyM+5ooA7/wAF/CGyvtCtNU1R5JXuekIHA5x1Fem+HfAuneHblrjSdJFrOPlMzksxHsDXzPYeNfEWmrGlvq10I4/uIZDtX6CtxPi94vSMKdRZyOjNkn+dAH1JHbuk7yS2zLB3wCSD61xHjb4naJ4SBgRo9R1AfPFAjfu1J/vMOh9q8Ev/AIl+Lb8/PrV1ECMERSFc/WuVeV5JWlkYu7ksxPcmgD6P+GHirVvGZ1q/1Z2lWOREihVflQEHuPSuy1G4bS9Kvr4w4W1hLLu4JPTOK+TNP1/VtJjePT9RubVJCCywyFQSOmcVYn8W+IbqKSK41i8lSRdrK8pIIoAzblnkupnwfmdj+tFReY5/iNFADaKKKACiiigAooooAKKKKAP/2Q==\"></td>\n",
       "      <td>Ankle boot</td>\n",
       "    </tr>\n",
       "    <tr>\n",
       "      <td><img src=\"data:image/jpeg;base64,/9j/4AAQSkZJRgABAQAAAQABAAD/2wBDAAgGBgcGBQgHBwcJCQgKDBQNDAsLDBkSEw8UHRofHh0aHBwgJC4nICIsIxwcKDcpLDAxNDQ0Hyc5PTgyPC4zNDL/2wBDAQkJCQwLDBgNDRgyIRwhMjIyMjIyMjIyMjIyMjIyMjIyMjIyMjIyMjIyMjIyMjIyMjIyMjIyMjIyMjIyMjIyMjL/wAARCAAyADIDASIAAhEBAxEB/8QAHwAAAQUBAQEBAQEAAAAAAAAAAAECAwQFBgcICQoL/8QAtRAAAgEDAwIEAwUFBAQAAAF9AQIDAAQRBRIhMUEGE1FhByJxFDKBkaEII0KxwRVS0fAkM2JyggkKFhcYGRolJicoKSo0NTY3ODk6Q0RFRkdISUpTVFVWV1hZWmNkZWZnaGlqc3R1dnd4eXqDhIWGh4iJipKTlJWWl5iZmqKjpKWmp6ipqrKztLW2t7i5usLDxMXGx8jJytLT1NXW19jZ2uHi4+Tl5ufo6erx8vP09fb3+Pn6/8QAHwEAAwEBAQEBAQEBAQAAAAAAAAECAwQFBgcICQoL/8QAtREAAgECBAQDBAcFBAQAAQJ3AAECAxEEBSExBhJBUQdhcRMiMoEIFEKRobHBCSMzUvAVYnLRChYkNOEl8RcYGRomJygpKjU2Nzg5OkNERUZHSElKU1RVVldYWVpjZGVmZ2hpanN0dXZ3eHl6goOEhYaHiImKkpOUlZaXmJmaoqOkpaanqKmqsrO0tba3uLm6wsPExcbHyMnK0tPU1dbX2Nna4uPk5ebn6Onq8vP09fb3+Pn6/9oADAMBAAIRAxEAPwDwTcSSRnOME+tdP4Q8D6n4zuilpH5drF/rJj0/D3rlt2BgdK+lPgdbNH4ALEFTJdP+IwKAMmH4CaOLQw3GtzidvmSRUB246isrRfgZb3cNxLqep3VsY7ho41EQ/eIOjfjXtbIyeYuF3DqcdqjdyQHZmOBjDHOB7UAfO/jH4Q6l4bs3vrOZby0j/wBYM/Ov1ArzZs8ZPavs3UrbzdA1KEorG4tZOo5zjivja7hNvdSQMMGNip/CgCGiiigBTwB719b/AAtsxaeCdKRRgyfvT+Ir5IOcDNfW2m3raZ8K7G7gBE0djCVHck4FAHTXZJmkyMEVWkIK8dMCppmZmTzRhygLfiKg/hCkYG7rQBpXEebeJQvDxsrV8ZeKohB4s1WJei3LgfnX13YahPP4g1i0l4itXjVM9wVzxXyV41GPG2tD/p7k/nQBg0UUUATQRebcxxddzAV9gppwn8HaVZnCobKJT9QK+RtHCPrFishwpnQE+2a+lPH/AIkTwt4V0q6hn8yQYESA8MMd6AO5nxJOxboVAH4DFQsoeFtxxgAD3ryM/tAWpCq2kyH5fmPHX2o/4X9ZEhv7Hm3LwBlcEUAeuwW7DW57rACXTJkd+Bivlj4nWiWfj/VUQ5Vpmb8zXs3gX4iJ408bPHHG8EaxlooGI7DnNeTfF4Q/8J9dGKRXLAF9vZsnIoA4OiiigCSA4njI/vCvTPiU7N4T8PbmJ47n/ZoooA8yX7jUsf3l+tFFAHa/CZmXx9blSR+6foaw/GTFvF+qEkk/aG6/WiigDCooooA//9k=\"></td>\n",
       "      <td>Pullover</td>\n",
       "    </tr>\n",
       "    <tr>\n",
       "      <td><img src=\"data:image/jpeg;base64,/9j/4AAQSkZJRgABAQAAAQABAAD/2wBDAAgGBgcGBQgHBwcJCQgKDBQNDAsLDBkSEw8UHRofHh0aHBwgJC4nICIsIxwcKDcpLDAxNDQ0Hyc5PTgyPC4zNDL/2wBDAQkJCQwLDBgNDRgyIRwhMjIyMjIyMjIyMjIyMjIyMjIyMjIyMjIyMjIyMjIyMjIyMjIyMjIyMjIyMjIyMjIyMjL/wAARCAAyADIDASIAAhEBAxEB/8QAHwAAAQUBAQEBAQEAAAAAAAAAAAECAwQFBgcICQoL/8QAtRAAAgEDAwIEAwUFBAQAAAF9AQIDAAQRBRIhMUEGE1FhByJxFDKBkaEII0KxwRVS0fAkM2JyggkKFhcYGRolJicoKSo0NTY3ODk6Q0RFRkdISUpTVFVWV1hZWmNkZWZnaGlqc3R1dnd4eXqDhIWGh4iJipKTlJWWl5iZmqKjpKWmp6ipqrKztLW2t7i5usLDxMXGx8jJytLT1NXW19jZ2uHi4+Tl5ufo6erx8vP09fb3+Pn6/8QAHwEAAwEBAQEBAQEBAQAAAAAAAAECAwQFBgcICQoL/8QAtREAAgECBAQDBAcFBAQAAQJ3AAECAxEEBSExBhJBUQdhcRMiMoEIFEKRobHBCSMzUvAVYnLRChYkNOEl8RcYGRomJygpKjU2Nzg5OkNERUZHSElKU1RVVldYWVpjZGVmZ2hpanN0dXZ3eHl6goOEhYaHiImKkpOUlZaXmJmaoqOkpaanqKmqsrO0tba3uLm6wsPExcbHyMnK0tPU1dbX2Nna4uPk5ebn6Onq8vP09fb3+Pn6/9oADAMBAAIRAxEAPwDwNOASQCvoTU1vbT3sixW0Ek8vZUUk4/Ctjwl4YufF2uDTLa4igcRNJ5kikrx2r0HWtEv/AAj4XOn+HtHlknl/4/NWJB/4DH3XmgDz+Xw/b6QVbWLld7DKwwHeR7N6VUe/012Ef9mRxLn/AFiuS2PpUh8O6/czGV7OeSRurMeT+NB8K67yP7Ml45PIz+dAElv4fTVEeTSZlm2fehkO2Q/7q96xpo5IbhoZVkRlO0o64YexHrW9Z+FfFEM6yWmn3Mcy8q8bBSPxzXdw+E9Y8Y2ttp+tabFpN9DyuolBiZcdGxyW96APIdp/umitqbQNQhnkiwG2MV3Dvg9aKAPRfg9P/YumXGqyRIfPvorFSx5PmccV7LrPh6O5hkjiwsoY5+bivGNQQ6Kvw80cFEbz1mugvG5xL8pP4Gvoe4jVjIBxmQtmgDzb+zZUk+y31p8nQSLVqPw7keVG3yHpmuzkt1lGJOSOlNWBFC/LhlPHvQBz9tpCRfu2h3NjqK1tP0+CS4RShRkB4P0q0UJAw21weaUSLAz3XOI0YtnqeDQB8p6hrYTUrpd3SZx+pormr9t2o3LesrH9TRQB3d5dy+IL/RNas4nlmgkX7RFGCzId2RgemB1r6ctyJ7G3coQzwLIWJ5yexFfHHhzU59H1yzuY7uS3iEqiV42x8meR9K+ptO8d+FNRtYltvENqsgGCr5zQB0e0uu7utRud4D9Cvas698XaFp2nT3r6nbuI42dYlPzPgdPxrzo/tBeHSQToOpAnriRMUAepvlh5o6+lZfiO7+weFdWuyceXBurzyX9oDQif3Wh6gB/tSJWN4n+M2l694U1PSYNMu4JruHYryMpA59qAPGZ23zyP/eYn9aKbtH94UUAIvUU5mKP8pK/TiiigB8s0rOQ0rkehY1F/CKKKAEqZP9Wn+9RRQBCepooooA//2Q==\"></td>\n",
       "      <td>Bag</td>\n",
       "    </tr>\n",
       "    <tr>\n",
       "      <td><img src=\"data:image/jpeg;base64,/9j/4AAQSkZJRgABAQAAAQABAAD/2wBDAAgGBgcGBQgHBwcJCQgKDBQNDAsLDBkSEw8UHRofHh0aHBwgJC4nICIsIxwcKDcpLDAxNDQ0Hyc5PTgyPC4zNDL/2wBDAQkJCQwLDBgNDRgyIRwhMjIyMjIyMjIyMjIyMjIyMjIyMjIyMjIyMjIyMjIyMjIyMjIyMjIyMjIyMjIyMjIyMjL/wAARCAAyADIDASIAAhEBAxEB/8QAHwAAAQUBAQEBAQEAAAAAAAAAAAECAwQFBgcICQoL/8QAtRAAAgEDAwIEAwUFBAQAAAF9AQIDAAQRBRIhMUEGE1FhByJxFDKBkaEII0KxwRVS0fAkM2JyggkKFhcYGRolJicoKSo0NTY3ODk6Q0RFRkdISUpTVFVWV1hZWmNkZWZnaGlqc3R1dnd4eXqDhIWGh4iJipKTlJWWl5iZmqKjpKWmp6ipqrKztLW2t7i5usLDxMXGx8jJytLT1NXW19jZ2uHi4+Tl5ufo6erx8vP09fb3+Pn6/8QAHwEAAwEBAQEBAQEBAQAAAAAAAAECAwQFBgcICQoL/8QAtREAAgECBAQDBAcFBAQAAQJ3AAECAxEEBSExBhJBUQdhcRMiMoEIFEKRobHBCSMzUvAVYnLRChYkNOEl8RcYGRomJygpKjU2Nzg5OkNERUZHSElKU1RVVldYWVpjZGVmZ2hpanN0dXZ3eHl6goOEhYaHiImKkpOUlZaXmJmaoqOkpaanqKmqsrO0tba3uLm6wsPExcbHyMnK0tPU1dbX2Nna4uPk5ebn6Onq8vP09fb3+Pn6/9oADAMBAAIRAxEAPwDwD3qaG2aUbug9ahrTto825AJJxkgUAdV8MtTtfD/jO2uptrQSxtE8jnHlg8E13/xa8SadeeGhZ6PqkV2hco6KwJUevFeKhQSD/DnDAdGpzxD+FBGc4wvGR70AVnsG/wCWTbgBzmqjDacdxWxHGXR5GJABA+Xisqc5mf60AR0UUUALW5pgDFlA5MYrDHJFbumOsSSzHjYg49aAKyseFx0anyAhs1HGSHJbnJzxUku5s4+X60AW4FxpE8hH3XUVhXI/e59Rmt21l8zQ7636OJFOfasO6OXX/dFAEFFFFADl+8p9611H/Emml6EnbWSpw4+tbTQufDpkEiYEpJXuaAKsYOFx1qSUsDhu1MiU7lwe1OmDsxOMntigCfTP3l7NGfuyQsfxArHnPz7T1UYre0eMTaikagq6wOTk96wrr/j5fIw2efrQBDRRRQA4dfxqRmb7MoycbzxmiigC5bffH0pLwkRnB70UUAVrV2ErEMQdh5BqvnPWiigAooooA//Z\"></td>\n",
       "      <td>Shirt</td>\n",
       "    </tr>\n",
       "    <tr>\n",
       "      <td><img src=\"data:image/jpeg;base64,/9j/4AAQSkZJRgABAQAAAQABAAD/2wBDAAgGBgcGBQgHBwcJCQgKDBQNDAsLDBkSEw8UHRofHh0aHBwgJC4nICIsIxwcKDcpLDAxNDQ0Hyc5PTgyPC4zNDL/2wBDAQkJCQwLDBgNDRgyIRwhMjIyMjIyMjIyMjIyMjIyMjIyMjIyMjIyMjIyMjIyMjIyMjIyMjIyMjIyMjIyMjIyMjL/wAARCAAyADIDASIAAhEBAxEB/8QAHwAAAQUBAQEBAQEAAAAAAAAAAAECAwQFBgcICQoL/8QAtRAAAgEDAwIEAwUFBAQAAAF9AQIDAAQRBRIhMUEGE1FhByJxFDKBkaEII0KxwRVS0fAkM2JyggkKFhcYGRolJicoKSo0NTY3ODk6Q0RFRkdISUpTVFVWV1hZWmNkZWZnaGlqc3R1dnd4eXqDhIWGh4iJipKTlJWWl5iZmqKjpKWmp6ipqrKztLW2t7i5usLDxMXGx8jJytLT1NXW19jZ2uHi4+Tl5ufo6erx8vP09fb3+Pn6/8QAHwEAAwEBAQEBAQEBAQAAAAAAAAECAwQFBgcICQoL/8QAtREAAgECBAQDBAcFBAQAAQJ3AAECAxEEBSExBhJBUQdhcRMiMoEIFEKRobHBCSMzUvAVYnLRChYkNOEl8RcYGRomJygpKjU2Nzg5OkNERUZHSElKU1RVVldYWVpjZGVmZ2hpanN0dXZ3eHl6goOEhYaHiImKkpOUlZaXmJmaoqOkpaanqKmqsrO0tba3uLm6wsPExcbHyMnK0tPU1dbX2Nna4uPk5ebn6Onq8vP09fb3+Pn6/9oADAMBAAIRAxEAPwD5/oopQCelACUClAJOAOTXT2vw88U3cSSxaRMUkQSIxIGVPfrQBzH4Uqrn0FdCngTxNJN5UelSu+cYBH+NamleAbq3vJJfFEb6bp1su+Zm+84/uqR3oA4zEX99vyorde48MiRgmnXxQE7T5o5FFAGBj+7n8qMbTyK77QPhheavptveveRxCbpEQdw5rstN+EmgxsPt0t1O6n5vLfAFAHmPg7w/eeJfEVrbwRGSJHEkzEcKoPPPrivoLxNcSaT4fVbQFnb9xHIP+WaDp+NT6PpFlpFobfS7VLYZyzgYZ/qayfGk86XdjZBljtThyO7OeufagCz4DsI7hri8eVgsBACH+Ems344C4bwXbS2vyj7S3n4H3kxwfzrutCtbXS9PS1hQOHXc7Y5Y+9Z/jywOo+BtXt1Rc/Z9ylh05oA+S97/AN6imsCjFT1BxRQB634a+I2jvAkWtebZXS8C5gTfn6r0Feg2mr2V3CjWfiG0k3HP791jP5V8xEk8nrQDjPH/ANagD6yjv5Wj5uNLmAOP+PtRUV1bW13dC7CaYJVULzeA9K+V0u7iMYSZ1Hsaf9vu+f8ASZOf9qgD68GuXaIFW80uBQMAi5U1zniPXn/sm9W48Q2bl4tvlxyIcivmRry5cYaeQj3aoSxY5JyaAHzczyHOfmPP40UzPsKKAEooooAKKKKACiiigAooooA//9k=\"></td>\n",
       "      <td>Ankle boot</td>\n",
       "    </tr>\n",
       "  </tbody>\n",
       "</table>"
      ],
      "text/plain": [
       "<IPython.core.display.HTML object>"
      ]
     },
     "metadata": {},
     "output_type": "display_data"
    }
   ],
   "source": [
    "show(data_df)"
   ]
  },
  {
   "cell_type": "markdown",
   "id": "db54e404",
   "metadata": {
    "deletable": false,
    "editable": false,
    "id": 2
   },
   "source": [
    "### 2. Create & train a Neural Network Model"
   ]
  },
  {
   "cell_type": "markdown",
   "id": "2c894ee9",
   "metadata": {
    "deletable": false,
    "editable": false
   },
   "source": [
    "2.1 Split the dataset"
   ]
  },
  {
   "cell_type": "code",
   "execution_count": 3,
   "id": "4ebe1b92",
   "metadata": {},
   "outputs": [],
   "source": [
    "train_df, test_df = split_table(data_df)"
   ]
  },
  {
   "cell_type": "markdown",
   "id": "c0ca9cf9",
   "metadata": {
    "deletable": false,
    "editable": false
   },
   "source": [
    "2.2 Create a Neural Network model"
   ]
  },
  {
   "cell_type": "code",
   "execution_count": 4,
   "id": "7409d9f4",
   "metadata": {},
   "outputs": [],
   "source": [
    "model_NN = create_model(\"NeuralNetwork\")"
   ]
  },
  {
   "cell_type": "markdown",
   "id": "c4dd0eba",
   "metadata": {
    "deletable": false,
    "editable": false
   },
   "source": [
    "2.3 Experiment with 1 - 3 Hidden layers with a combination of the following number of neurons: [20, 40]"
   ]
  },
  {
   "cell_type": "code",
   "execution_count": 5,
   "id": "dda966cb",
   "metadata": {},
   "outputs": [],
   "source": [
    "add_layer(model_NN, \"Hidden\", 40)\n",
    "add_layer(model_NN, \"Hidden\", 40)\n",
    "add_layer(model_NN, \"Hidden\", 20)\n"
   ]
  },
  {
   "cell_type": "markdown",
   "id": "b9ccbddd",
   "metadata": {
    "deletable": false,
    "editable": false
   },
   "source": [
    "2.4 Train the model using the training data with 10 epochs"
   ]
  },
  {
   "cell_type": "code",
   "execution_count": 6,
   "id": "95d02cd9",
   "metadata": {
    "editable": true,
    "slideshow": {
     "slide_type": ""
    },
    "tags": []
   },
   "outputs": [
    {
     "name": "stdout",
     "output_type": "stream",
     "text": [
      "Size of Training Data = 8000\n",
      "\n",
      "\n",
      "Number of Epochs = 10\n",
      "\n",
      "\n",
      "\n",
      "\n",
      "---------------------------------------------------------------------------------------------\n",
      "Epoch 1:\n",
      "\n",
      "Training Time per Epoch = 0.72s | Training Accuracy = 66.87% | Testing Accuracy = 79.31%\n",
      "---------------------------------------------------------------------------------------------\n",
      "Epoch 2:\n",
      "\n",
      "Training Time per Epoch = 0.35000000000000003s | Training Accuracy = 80.62% | Testing Accuracy = 82.31%\n",
      "---------------------------------------------------------------------------------------------\n",
      "Epoch 3:\n",
      "\n",
      "Training Time per Epoch = 0.38s | Training Accuracy = 82.34% | Testing Accuracy = 80.12%\n",
      "---------------------------------------------------------------------------------------------\n",
      "Epoch 4:\n",
      "\n",
      "Training Time per Epoch = 0.35000000000000003s | Training Accuracy = 82.88% | Testing Accuracy = 78.06%\n",
      "---------------------------------------------------------------------------------------------\n",
      "Epoch 5:\n",
      "\n",
      "Training Time per Epoch = 0.36s | Training Accuracy = 84.44% | Testing Accuracy = 83.31%\n",
      "---------------------------------------------------------------------------------------------\n",
      "Epoch 6:\n",
      "\n",
      "Training Time per Epoch = 0.35000000000000003s | Training Accuracy = 85.92% | Testing Accuracy = 80.56%\n",
      "---------------------------------------------------------------------------------------------\n",
      "Epoch 7:\n",
      "\n",
      "Training Time per Epoch = 0.34s | Training Accuracy = 86.97% | Testing Accuracy = 85.12%\n",
      "---------------------------------------------------------------------------------------------\n",
      "Epoch 8:\n",
      "\n",
      "Training Time per Epoch = 0.35000000000000003s | Training Accuracy = 87.02% | Testing Accuracy = 84.06%\n",
      "---------------------------------------------------------------------------------------------\n",
      "Epoch 9:\n",
      "\n",
      "Training Time per Epoch = 0.35000000000000003s | Training Accuracy = 87.0% | Testing Accuracy = 83.38%\n",
      "---------------------------------------------------------------------------------------------\n",
      "Epoch 10:\n",
      "\n",
      "Training Time per Epoch = 0.35000000000000003s | Training Accuracy = 87.42% | Testing Accuracy = 83.19%\n",
      "---------------------------------------------------------------------------------------------\n",
      "\n",
      "Total Training Time = 3.9s\n"
     ]
    }
   ],
   "source": [
    "train_model(model_NN, train_df, \"ClassName\", \"Image\", n_epochs = 10)"
   ]
  },
  {
   "cell_type": "markdown",
   "id": "e0875367",
   "metadata": {
    "deletable": false,
    "editable": false
   },
   "source": [
    "2.5 Visualize the model "
   ]
  },
  {
   "cell_type": "markdown",
   "id": "4674b12d",
   "metadata": {
    "deletable": false,
    "editable": false,
    "id": 3
   },
   "source": [
    "### 3.  Test & evaluate the model"
   ]
  },
  {
   "cell_type": "markdown",
   "id": "9b069c07",
   "metadata": {
    "deletable": false,
    "editable": false
   },
   "source": [
    "3.1 Check the accuracy of the model "
   ]
  },
  {
   "cell_type": "code",
   "execution_count": 7,
   "id": "eeb721af",
   "metadata": {
    "editable": true,
    "slideshow": {
     "slide_type": ""
    },
    "tags": []
   },
   "outputs": [
    {
     "name": "stdout",
     "output_type": "stream",
     "text": [
      "Size of Testing Data = 2000\n",
      "\n",
      "\n",
      "Number of Epochs = 10\n",
      "\n",
      "\n",
      "\n",
      "\n",
      "Accuracy using Test Data:  83.25 %\n",
      "---------------------------------------------------------------------------------------------\n"
     ]
    }
   ],
   "source": [
    "check_accuracy(model_NN, test_df)"
   ]
  },
  {
   "cell_type": "markdown",
   "id": "9fcb42e6",
   "metadata": {
    "deletable": false,
    "slideshow": {
     "slide_type": ""
    },
    "tags": []
   },
   "source": [
    "3.2 Show the learning curve of the model"
   ]
  },
  {
   "cell_type": "code",
   "execution_count": 9,
   "id": "c779807e",
   "metadata": {
    "editable": true,
    "slideshow": {
     "slide_type": ""
    },
    "tags": []
   },
   "outputs": [
    {
     "data": {
      "image/png": "[encoded data removed]",
      "text/plain": [
       "<Figure size 1000x800 with 1 Axes>"
      ]
     },
     "metadata": {},
     "output_type": "display_data"
    },
    {
     "data": {
      "text/plain": [
       "<Figure size 640x480 with 0 Axes>"
      ]
     },
     "metadata": {},
     "output_type": "display_data"
    }
   ],
   "source": [
    "show_learning_curves(model_NN,train_df )"
   ]
  }
 ],
 "metadata": {
  "kernelspec": {
   "display_name": "Python 3 (ipykernel)",
   "language": "python",
   "name": "python3"
  },
  "language_info": {
   "codemirror_mode": {
    "name": "ipython",
    "version": 3
   },
   "file_extension": ".py",
   "mimetype": "text/x-python",
   "name": "python",
   "nbconvert_exporter": "python",
   "pygments_lexer": "ipython3",
   "version": "3.9.7"
  }
 },
 "nbformat": 4,
 "nbformat_minor": 5
}
