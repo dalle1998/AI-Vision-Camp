{
 "cells": [
  {
   "cell_type": "markdown",
   "id": "6d0fc213",
   "metadata": {
    "deletable": false,
    "tags": []
   },
   "source": [
    "<p style= \"color:red;\">NOTES: Merge Challenge1 & Challenge2 together. Make it so that  studnets load data and then train a KNN model with different k values then compare. Afer that let them create an MLP with different configs and then compare. Remove the parts about confusion matrix since we dont cover that in session 2. Add a cell for KNN section where they can extract features as well, allowing them to experiment<p>"
   ]
  },
  {
   "cell_type": "markdown",
   "id": "9c1806b9",
   "metadata": {
    "deletable": false,
    "slideshow": {
     "slide_type": ""
    },
    "tags": []
   },
   "source": [
    "## The tech startup that created a fashion application wants to add more items to suggest to their users. They want to start using neural networks for providing recommendations to customers based on a picture they took. Using neural networks instead of KNN with the larger number of classes will produce a more accurate ML model. \n",
    "<img style=\"float: center; /\"  width = \"1000\"  src=\"Notebook Images/ML-M2-Session2-Challenge-Image1.png\">\n",
    "\n",
    "## Your task is to create, train and test a KNN Model on the fashion MNIST dataset which has 10 classes as shown below:\n",
    "<img style=\"float: center; /\"  width = \"1000\"  src=\"Notebook Images/ML-M2-Session2-Challenge-Image2.png\">\n",
    "\n",
    "## What you need to do:\n",
    "1. Load & show the fashion MNIST dataset\n",
    "2. Create & train a KNN model using different values of k\n",
    "3. Test & evaluate the model"
   ]
  },
  {
   "cell_type": "markdown",
   "id": "f4f21334",
   "metadata": {
    "deletable": false,
    "editable": false,
    "id": 1,
    "slideshow": {
     "slide_type": ""
    },
    "tags": []
   },
   "source": [
    "### 1. Load & show the fashion MNIST dataset"
   ]
  },
  {
   "cell_type": "markdown",
   "id": "b70e4004",
   "metadata": {
    "deletable": false,
    "editable": false,
    "slideshow": {
     "slide_type": ""
    },
    "tags": []
   },
   "source": [
    "1.1 Load the dataset using the __*load(filename, numner_of_images)*__ function. filename = \"fashion_mnist\". Experiment with three data sizes: [10000, 30000, 60000]"
   ]
  },
  {
   "cell_type": "code",
   "execution_count": 2,
   "id": "b5c43ac7",
   "metadata": {
    "editable": true,
    "slideshow": {
     "slide_type": ""
    },
    "tags": []
   },
   "outputs": [],
   "source": [
    "data_df = load(\"fashion_mnist\", 10000)"
   ]
  },
  {
   "cell_type": "markdown",
   "id": "53376432",
   "metadata": {
    "deletable": false,
    "editable": false,
    "slideshow": {
     "slide_type": ""
    },
    "tags": []
   },
   "source": [
    "1.2 Show the dataset in a table format using the __*show(data)*__ function"
   ]
  },
  {
   "cell_type": "code",
   "execution_count": 3,
   "id": "efc3bb44",
   "metadata": {
    "editable": true,
    "slideshow": {
     "slide_type": ""
    },
    "tags": []
   },
   "outputs": [
    {
     "name": "stdout",
     "output_type": "stream",
     "text": [
      "Showing the first 10 rows\n"
     ]
    },
    {
     "data": {
      "application/vnd.jupyter.widget-view+json": {
       "model_id": "282cda342eba46498ab1706e53e68079",
       "version_major": 2,
       "version_minor": 0
      },
      "text/plain": [
       "VBox(children=(IntSlider(value=1, description='Page:', max=201, min=1), Button(description='Apply', style=Butt…"
      ]
     },
     "metadata": {},
     "output_type": "display_data"
    },
    {
     "data": {
      "text/plain": [
       "<easy_ds.EasyImageDataframe at 0x7c0820afb0a0>"
      ]
     },
     "execution_count": 3,
     "metadata": {},
     "output_type": "execute_result"
    }
   ],
   "source": [
    "show(data_df)"
   ]
  },
  {
   "cell_type": "markdown",
   "id": "db54e404",
   "metadata": {
    "deletable": false,
    "editable": true,
    "id": 2,
    "slideshow": {
     "slide_type": ""
    },
    "tags": []
   },
   "source": [
    "### 2. Create & train a KNN Model"
   ]
  },
  {
   "cell_type": "markdown",
   "id": "2c894ee9",
   "metadata": {
    "deletable": false,
    "editable": false,
    "slideshow": {
     "slide_type": ""
    },
    "tags": []
   },
   "source": [
    "2.1 Split the dataset"
   ]
  },
  {
   "cell_type": "code",
   "execution_count": 4,
   "id": "4ebe1b92",
   "metadata": {
    "editable": true,
    "slideshow": {
     "slide_type": ""
    },
    "tags": []
   },
   "outputs": [],
   "source": [
    "train_df, test_df = split_table(data_df)"
   ]
  },
  {
   "cell_type": "markdown",
   "id": "c0ca9cf9",
   "metadata": {
    "deletable": false,
    "editable": false,
    "slideshow": {
     "slide_type": ""
    },
    "tags": []
   },
   "source": [
    "2.2 Create a Neural Network model"
   ]
  },
  {
   "cell_type": "code",
   "execution_count": 5,
   "id": "7409d9f4",
   "metadata": {
    "editable": true,
    "slideshow": {
     "slide_type": ""
    },
    "tags": []
   },
   "outputs": [],
   "source": [
    "model_NN = create_model(\"knn\", 3)"
   ]
  },
  {
   "cell_type": "markdown",
   "id": "b9ccbddd",
   "metadata": {
    "deletable": false,
    "editable": false,
    "slideshow": {
     "slide_type": ""
    },
    "tags": []
   },
   "source": [
    "2.4 Train the model using the training data with 10 epochs"
   ]
  },
  {
   "cell_type": "code",
   "execution_count": 6,
   "id": "95d02cd9",
   "metadata": {
    "editable": true,
    "slideshow": {
     "slide_type": ""
    },
    "tags": []
   },
   "outputs": [
    {
     "name": "stdout",
     "output_type": "stream",
     "text": [
      "Execution Time: 49.57241654396057 seconds\n"
     ]
    }
   ],
   "source": [
    "fit_model(model_NN, train_df, \"ClassName\", \"Image\")"
   ]
  },
  {
   "cell_type": "markdown",
   "id": "4674b12d",
   "metadata": {
    "deletable": false,
    "editable": false,
    "id": 3,
    "slideshow": {
     "slide_type": ""
    },
    "tags": []
   },
   "source": [
    "### 3.  Test & evaluate the model"
   ]
  },
  {
   "cell_type": "markdown",
   "id": "9b069c07",
   "metadata": {
    "deletable": false,
    "editable": false,
    "slideshow": {
     "slide_type": ""
    },
    "tags": []
   },
   "source": [
    "3.1 Check the accuracy of the model "
   ]
  },
  {
   "cell_type": "code",
   "execution_count": 7,
   "id": "eeb721af",
   "metadata": {
    "editable": true,
    "slideshow": {
     "slide_type": ""
    },
    "tags": []
   },
   "outputs": [
    {
     "name": "stdout",
     "output_type": "stream",
     "text": [
      "For k = 3\n",
      "Accuracy score of the model is: 81.2 %\n",
      "\n",
      "\n"
     ]
    }
   ],
   "source": [
    "check_accuracy(model_NN, test_df)"
   ]
  }
 ],
 "metadata": {
  "kernelspec": {
   "display_name": "Python 3 (ipykernel)",
   "language": "python",
   "name": "python3"
  },
  "language_info": {
   "codemirror_mode": {
    "name": "ipython",
    "version": 3
   },
   "file_extension": ".py",
   "mimetype": "text/x-python",
   "name": "python",
   "nbconvert_exporter": "python",
   "pygments_lexer": "ipython3",
   "version": "3.9.7"
  }
 },
 "nbformat": 4,
 "nbformat_minor": 5
}
