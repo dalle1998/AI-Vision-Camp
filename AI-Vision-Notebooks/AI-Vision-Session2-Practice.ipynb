{
 "cells": [
  {
   "cell_type": "markdown",
   "id": "b9bd3070",
   "metadata": {
    "deletable": false,
    "editable": true,
    "slideshow": {
     "slide_type": ""
    },
    "tags": []
   },
   "source": [
    "## A team of researchers are trying to develop a machine that can diagnose brain tumors for patients based on x-ray scans of their brains. They are hoping that the machine can help doctors diagnose correctly in order to treat the patients with brain tumors as fast as possible. \n",
    "## The problem is very critical, so the team are taking their time to find the best ML model that gives the highest possible accuracy so that the amount of false positives and true negatives are minimal.\n",
    "<img style=\"float: center; /\"  width = \"1000\"  src=\"Notebook Images/ML-M2-Session1-Challenge-Image1.png\">\n",
    "\n",
    "## Your task is to train a KNN model that can classify an xray scan image as healthy or with Brain Tumor.\n",
    "<img style=\"float: center; /\"  width = \"500\"  src=\"Notebook Images/ML-M2-Session1-Challenge-Image2.png\">\n",
    "\n",
    "## What you need to do:\n",
    "1. Load & show from the brain tumor dataset: <br>\n",
    "    1.1 Load and show 500 images <br>\n",
    "    1.2 Load 1000 images <br>\n",
    "    1.3 Load 4600 images (Full dataset) <br>\n",
    "2. Create, train, test & evaluate a KNN model using three values for k = [3, 5, 10] for each of the following data sizes:<br>\n",
    "    2.1 500 images <br>\n",
    "    2.2 1000 images <br>\n",
    "    2.3 4600 images <br>\n",
    "3. Create, train, test & evaluate an MLP model for each of the following data sizes [500, 1000, 4600]<br>"
   ]
  },
  {
   "cell_type": "markdown",
   "id": "33c69f7e",
   "metadata": {
    "deletable": false,
    "editable": false,
    "id": 1,
    "slideshow": {
     "slide_type": ""
    },
    "tags": []
   },
   "source": [
    "### 1. Load & show from the brain tumor dataset"
   ]
  },
  {
   "cell_type": "markdown",
   "id": "ff78f634",
   "metadata": {
    "deletable": false,
    "editable": false,
    "id": 1.1,
    "slideshow": {
     "slide_type": ""
    },
    "tags": []
   },
   "source": [
    "### 1.1 500 images"
   ]
  },
  {
   "cell_type": "markdown",
   "id": "c6d2aed5",
   "metadata": {
    "deletable": false
   },
   "source": [
    "1.1.1 Load 500 images from the brain tumor dataset. filename = brain_tumor"
   ]
  },
  {
   "cell_type": "code",
   "execution_count": null,
   "id": "8401659f",
   "metadata": {
    "editable": true,
    "slideshow": {
     "slide_type": ""
    },
    "tags": []
   },
   "outputs": [],
   "source": []
  },
  {
   "cell_type": "markdown",
   "id": "082352a6",
   "metadata": {
    "deletable": false
   },
   "source": [
    "1.1.2 Show the dataset"
   ]
  },
  {
   "cell_type": "code",
   "execution_count": null,
   "id": "afe2edee",
   "metadata": {
    "editable": true,
    "scrolled": true,
    "slideshow": {
     "slide_type": ""
    },
    "tags": []
   },
   "outputs": [],
   "source": []
  },
  {
   "cell_type": "markdown",
   "id": "d36cff9d",
   "metadata": {
    "deletable": false,
    "editable": false,
    "id": 1.2,
    "slideshow": {
     "slide_type": ""
    },
    "tags": []
   },
   "source": [
    "### 1.2 1000 images"
   ]
  },
  {
   "cell_type": "markdown",
   "id": "e43ff553",
   "metadata": {
    "deletable": false
   },
   "source": [
    "1.2.1 Load 1000 images from the brain tumor dataset"
   ]
  },
  {
   "cell_type": "code",
   "execution_count": null,
   "id": "d5816a49",
   "metadata": {},
   "outputs": [],
   "source": []
  },
  {
   "cell_type": "markdown",
   "id": "c62ac4ed",
   "metadata": {
    "deletable": false
   },
   "source": [
    "1.2.2 Show the dataset"
   ]
  },
  {
   "cell_type": "code",
   "execution_count": null,
   "id": "c5c167dc",
   "metadata": {
    "scrolled": true
   },
   "outputs": [],
   "source": []
  },
  {
   "cell_type": "markdown",
   "id": "abb6a560",
   "metadata": {
    "deletable": false,
    "id": 1.3,
    "tags": []
   },
   "source": [
    "### 1.3 4600 images"
   ]
  },
  {
   "cell_type": "markdown",
   "id": "c31a8115",
   "metadata": {
    "deletable": false,
    "editable": false
   },
   "source": [
    "1.3.1 Load 4600 images from the brain tumor dataset"
   ]
  },
  {
   "cell_type": "code",
   "execution_count": null,
   "id": "1d36eec8",
   "metadata": {},
   "outputs": [],
   "source": []
  },
  {
   "cell_type": "markdown",
   "id": "5a9776a1",
   "metadata": {
    "deletable": false,
    "editable": false
   },
   "source": [
    "1.3.2 Show the dataset"
   ]
  },
  {
   "cell_type": "code",
   "execution_count": null,
   "id": "c821444c",
   "metadata": {
    "editable": true,
    "scrolled": true,
    "slideshow": {
     "slide_type": ""
    },
    "tags": []
   },
   "outputs": [],
   "source": []
  },
  {
   "cell_type": "markdown",
   "id": "f40cf252",
   "metadata": {
    "deletable": false,
    "editable": false,
    "id": 2,
    "jp-MarkdownHeadingCollapsed": true,
    "tags": []
   },
   "source": [
    "### 2. Create, train, test & evaluate a KNN model using three values for k = [3, 5, 10] for each subset"
   ]
  },
  {
   "cell_type": "markdown",
   "id": "2977790b",
   "metadata": {
    "deletable": false,
    "editable": false,
    "id": 2.1,
    "tags": []
   },
   "source": [
    "### 2.1 500 images"
   ]
  },
  {
   "cell_type": "markdown",
   "id": "e00cad4d",
   "metadata": {
    "deletable": false,
    "editable": false
   },
   "source": [
    "2.1.1 Split the dataset"
   ]
  },
  {
   "cell_type": "code",
   "execution_count": null,
   "id": "5adee267",
   "metadata": {},
   "outputs": [],
   "source": []
  },
  {
   "cell_type": "markdown",
   "id": "76cf5c89",
   "metadata": {
    "deletable": false,
    "tags": []
   },
   "source": [
    "2.1.2 Train a KNN model for each value of k, test & evaluate the model by showing the accuracy."
   ]
  },
  {
   "cell_type": "code",
   "execution_count": null,
   "id": "09c13782",
   "metadata": {
    "editable": true,
    "slideshow": {
     "slide_type": ""
    },
    "tags": []
   },
   "outputs": [],
   "source": []
  },
  {
   "cell_type": "markdown",
   "id": "a21e6969",
   "metadata": {
    "deletable": false,
    "editable": false,
    "id": 2.2,
    "tags": []
   },
   "source": [
    "### 2.2 1000 images"
   ]
  },
  {
   "cell_type": "markdown",
   "id": "681954fe",
   "metadata": {
    "deletable": false,
    "editable": false
   },
   "source": [
    "2.2.1 Split the dataset"
   ]
  },
  {
   "cell_type": "code",
   "execution_count": null,
   "id": "e06917cd",
   "metadata": {},
   "outputs": [],
   "source": []
  },
  {
   "cell_type": "markdown",
   "id": "6d3559f3",
   "metadata": {
    "deletable": false,
    "tags": []
   },
   "source": [
    "2.2.2 Train a KNN model for each value of k, test & evaluate the model by showing the accuracy."
   ]
  },
  {
   "cell_type": "code",
   "execution_count": null,
   "id": "6a720e75",
   "metadata": {
    "editable": true,
    "slideshow": {
     "slide_type": ""
    },
    "tags": []
   },
   "outputs": [],
   "source": []
  },
  {
   "cell_type": "markdown",
   "id": "7fa9274d",
   "metadata": {
    "deletable": false,
    "editable": false,
    "id": 2.3,
    "tags": []
   },
   "source": [
    "### 2.3 4600 images"
   ]
  },
  {
   "cell_type": "markdown",
   "id": "4c97fe59",
   "metadata": {
    "deletable": false,
    "editable": false
   },
   "source": [
    "2.3.1 Split the dataset"
   ]
  },
  {
   "cell_type": "code",
   "execution_count": null,
   "id": "2d4eeacc",
   "metadata": {},
   "outputs": [],
   "source": []
  },
  {
   "cell_type": "markdown",
   "id": "ffb3643f",
   "metadata": {
    "deletable": false,
    "editable": false
   },
   "source": [
    "2.3.2 Train a KNN model for each value of k, test & evaluate the model by showing the accuracy."
   ]
  },
  {
   "cell_type": "code",
   "execution_count": null,
   "id": "d6313469",
   "metadata": {
    "editable": true,
    "slideshow": {
     "slide_type": ""
    },
    "tags": []
   },
   "outputs": [],
   "source": []
  },
  {
   "cell_type": "markdown",
   "id": "34e2fe3a-6a05-48e6-b1a4-66dd202aac25",
   "metadata": {},
   "source": [
    "### 3. Create, train, test & evaluate an MLP model for each subset"
   ]
  },
  {
   "cell_type": "markdown",
   "id": "a007d4b1-8415-428b-80f2-2554dbda1899",
   "metadata": {},
   "source": [
    "3.1 Split the dataset"
   ]
  },
  {
   "cell_type": "code",
   "execution_count": null,
   "id": "35485051-cd91-4088-a0c2-e0918c5e3b7a",
   "metadata": {},
   "outputs": [],
   "source": []
  },
  {
   "cell_type": "markdown",
   "id": "389958f5-3578-489c-90ec-bbacee13c37e",
   "metadata": {},
   "source": [
    "3.2 Create a neural network model. Use the __*create\\_model(model\\_type)*__ function. To create a neural network model the model_type for that is \"NeuralNetwork\" ex: model_NN = create_model(\"NeuralNetwork\")"
   ]
  },
  {
   "cell_type": "code",
   "execution_count": null,
   "id": "757e340c-16a5-43a2-aab9-7fa0fa963c67",
   "metadata": {},
   "outputs": [],
   "source": []
  },
  {
   "cell_type": "markdown",
   "id": "82fe82fd-eeab-4d64-b5e6-eec754e7e104",
   "metadata": {},
   "source": [
    "3.3 Add 1-3 hidden layers to the neural network you just created. To add a layer use the function __*add\\_layer(model\\_name, layer\\_type, number\\_of\\_neurons)*__. ex: add_layer(model_NN, \"Hidden\", 20) - adds one hidden layer with 20 neurons.\n",
    "__Experiment with the following number of neurons per layer: [20, 40, 60].__ <br>\n"
   ]
  },
  {
   "cell_type": "code",
   "execution_count": null,
   "id": "03fb5f0a-e867-472d-ab67-92c662ee85e4",
   "metadata": {},
   "outputs": [],
   "source": []
  },
  {
   "cell_type": "markdown",
   "id": "bdbde2bd-3baa-428c-8774-2f1c463ff425",
   "metadata": {
    "tags": []
   },
   "source": [
    "3.4 Train the model on 10 epochs using the function __*train\\_model(model\\_name, training\\_data, labels\\_column\\_name, \\*features\\_column\\_name, n\\_epochs = number\\_of\\_epochs)*__. In the labels_column_name field enter the column name of the column that holds the labels. In the features_column_name field enter the column name of the column that holds the feature you want to use. \n",
    "<br>\n",
    "You can put more than one column name to include more features. ex: train_model(model_NN, train_df, \"ClassName\", \"Image\", n_epochs = 10) - trains the nueral network model on 10 epochs.\n",
    "__The results displayed will show the training in progress per epoch and the accuracy at the end of each epoch__"
   ]
  },
  {
   "cell_type": "code",
   "execution_count": null,
   "id": "259104df-2240-4fba-958f-9f4d0f17cabe",
   "metadata": {},
   "outputs": [],
   "source": []
  },
  {
   "cell_type": "markdown",
   "id": "2ab16acd-3daf-490b-ba90-1da5e806942a",
   "metadata": {},
   "source": [
    "3.5 Check the accuracy of the model"
   ]
  },
  {
   "cell_type": "code",
   "execution_count": null,
   "id": "f5be10f5-384d-4c14-9477-c56fb842dfb2",
   "metadata": {},
   "outputs": [],
   "source": []
  },
  {
   "cell_type": "markdown",
   "id": "8862c782-58ec-42bf-85ff-903320f0afd5",
   "metadata": {},
   "source": [
    "3.6 Show the learning curve of the model. Use the function __*show\\_learning\\_curves([model\\_name,..], \"title\\_of\\_model\")*__. The function takes in a list of models [model1, model2, ...]. You can show multiple learning curves next to each other and compare the curves between different models .ex: show_learning_curves([model_NN], 'NN')"
   ]
  },
  {
   "cell_type": "code",
   "execution_count": null,
   "id": "c3e6dd16-ac4d-4583-80ee-f4a52495fb4d",
   "metadata": {
    "tags": []
   },
   "outputs": [],
   "source": []
  }
 ],
 "metadata": {
  "kernelspec": {
   "display_name": "Python 3 (ipykernel)",
   "language": "python",
   "name": "python3"
  },
  "language_info": {
   "codemirror_mode": {
    "name": "ipython",
    "version": 3
   },
   "file_extension": ".py",
   "mimetype": "text/x-python",
   "name": "python",
   "nbconvert_exporter": "python",
   "pygments_lexer": "ipython3",
   "version": "3.9.7"
  }
 },
 "nbformat": 4,
 "nbformat_minor": 5
}
