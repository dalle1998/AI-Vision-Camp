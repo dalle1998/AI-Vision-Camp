{
 "cells": [
  {
   "cell_type": "markdown",
   "id": "fd994152",
   "metadata": {
    "deletable": false,
    "slideshow": {
     "slide_type": ""
    },
    "tags": []
   },
   "source": [
    "## The IT team at a local hospital wants to install a smart camera that can detect if someone is wearing a facemask as part of the healthcare procedures. To do that they want to collect data and develop a program that can detect a human face and predict if a face is with mask, without mask, or with mask weared incorrectly. \n",
    "<img style=\"float: center; /\"  width = \"1000\"  src=\"Notebook Images/ML-M2-Session4-ClassActivity-Image.png\">\n",
    "\n",
    "## Your next task is to create a detect facemask function in order to detect a face in an image and predict if the face has a mask, no mask, or incorrect mask position.\n",
    "## What you need to do:\n",
    "1. Define a function detectFacemask(img)\n",
    "2. Call the function and show the image"
   ]
  },
  {
   "cell_type": "markdown",
   "id": "5fd425f3",
   "metadata": {
    "deletable": false,
    "id": 3,
    "tags": []
   },
   "source": [
    "### 1. Define a function _detectFacemask(img)_"
   ]
  },
  {
   "cell_type": "markdown",
   "id": "693a12a1",
   "metadata": {
    "deletable": false,
    "tags": []
   },
   "source": [
    "1.1 Load the model trained on the facemask dataset. Use the function __*load_pretrained_model(model_name)*__. The model name is \"facemask\"."
   ]
  },
  {
   "cell_type": "code",
   "execution_count": null,
   "id": "364dbee6",
   "metadata": {},
   "outputs": [],
   "source": []
  },
  {
   "cell_type": "markdown",
   "id": "19f87c2e",
   "metadata": {
    "deletable": false,
    "tags": []
   },
   "source": [
    "1.2 Define a function __*detectFacemask(img)*__ that takes an image, detects the contours of the image and then predicts each bounding box. Use the function __*predict\\_face(model, img)*__ to predict if the face has a mask or not. The function returns two results: the predicted class and the probablity from 0 to 1. Use the __*draw\\_rectangle(img, x1, y1, x2, y2)*__ to draw a rectangle around the face. Use the function __*put_text(img, x1, y1, \"Text\")*__ to put a label on the image."
   ]
  },
  {
   "cell_type": "code",
   "execution_count": null,
   "id": "f406dd4c",
   "metadata": {},
   "outputs": [],
   "source": [
    "def detectFacemask(img):\n",
    "    # Get the contours of the image\n",
    "     \n",
    "    # For each contour, get the rectangle\n",
    "\n",
    "       \n",
    "        # Predict the cropped image using the given model\n",
    "        \n",
    "        # If the result predicts a sign, then draw a square at the contour and label it\n",
    "       \n",
    "    \n",
    "    # return the image   \n",
    "    return img"
   ]
  },
  {
   "cell_type": "markdown",
   "id": "2c26bd1f",
   "metadata": {
    "deletable": false,
    "id": 4,
    "tags": []
   },
   "source": [
    "### 2. Call the function and show image"
   ]
  },
  {
   "cell_type": "markdown",
   "id": "dc4046fd",
   "metadata": {
    "deletable": false,
    "tags": []
   },
   "source": [
    "2.1 Read the image from file into a variable using the function __*read_image(filename)*__. Use the sample image: \"facemask_7.png\". ex: image = read_image(\"sample.png\")"
   ]
  },
  {
   "cell_type": "code",
   "execution_count": null,
   "id": "795732e5",
   "metadata": {
    "editable": true,
    "slideshow": {
     "slide_type": ""
    },
    "tags": []
   },
   "outputs": [],
   "source": []
  },
  {
   "cell_type": "markdown",
   "id": "1fa10419",
   "metadata": {
    "deletable": false,
    "tags": []
   },
   "source": [
    "2.2 Call the detectFacemask function on the output you got from the previous function"
   ]
  },
  {
   "cell_type": "code",
   "execution_count": null,
   "id": "9017b8e2",
   "metadata": {},
   "outputs": [],
   "source": []
  },
  {
   "cell_type": "markdown",
   "id": "675b9809",
   "metadata": {
    "deletable": false,
    "tags": []
   },
   "source": [
    "2.3 Show the annotated image using the __*show_annotated_image(img)*__ function. ex: show_annotated_image(image)"
   ]
  },
  {
   "cell_type": "code",
   "execution_count": null,
   "id": "a5c3b036",
   "metadata": {
    "tags": []
   },
   "outputs": [],
   "source": []
  }
 ],
 "metadata": {
  "kernelspec": {
   "display_name": "Python 3 (ipykernel)",
   "language": "python",
   "name": "python3"
  },
  "language_info": {
   "codemirror_mode": {
    "name": "ipython",
    "version": 3
   },
   "file_extension": ".py",
   "mimetype": "text/x-python",
   "name": "python",
   "nbconvert_exporter": "python",
   "pygments_lexer": "ipython3",
   "version": "3.9.7"
  }
 },
 "nbformat": 4,
 "nbformat_minor": 5
}
