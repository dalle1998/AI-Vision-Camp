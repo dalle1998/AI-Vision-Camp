{
 "cells": [
  {
   "cell_type": "markdown",
   "id": "f1266817",
   "metadata": {
    "deletable": false,
    "tags": []
   },
   "source": [
    "## The researchers found that they need a better performing model. They want to try using a convolutional neural network model to use it on their machine. \n",
    "<img style=\"float: center; /\"  width = \"1000\"  src=\"Notebook Images/ML-M2-Session3-Practice-Image1.png\">\n",
    "\n",
    "## Your task is to create & train a convolutional neural network model that can classify an xray scan image as healthy or with Brain Tumor.\n",
    "<img style=\"float: center; /\"  width = \"500\"  src=\"Notebook Images/ML-M2-Session3-Practice-Image2.png\">\n",
    "\n",
    "## What you need to do:\n",
    "1. Load & show the brain tumor dataset alongside the project's budget\n",
    "2. Create & train a neural network\n",
    "3. Test & evaluate the model"
   ]
  },
  {
   "cell_type": "markdown",
   "id": "7f547fed",
   "metadata": {
    "deletable": false,
    "editable": false,
    "id": 1
   },
   "source": [
    "### 1. Load & show the brain tumor dataset"
   ]
  },
  {
   "cell_type": "markdown",
   "id": "b92cba9e",
   "metadata": {
    "deletable": false,
    "editable": false
   },
   "source": [
    "1.1 Load the brain tumor datatset. filename = \"brain_tumor\". Experiment with data sizes = [500, 1000, 4600]"
   ]
  },
  {
   "cell_type": "code",
   "execution_count": null,
   "id": "3c157f70",
   "metadata": {},
   "outputs": [],
   "source": []
  },
  {
   "cell_type": "markdown",
   "id": "234bb4c8",
   "metadata": {
    "deletable": false,
    "editable": false
   },
   "source": [
    "1.2 Show the data in a table format"
   ]
  },
  {
   "cell_type": "code",
   "execution_count": null,
   "id": "eabfeb16",
   "metadata": {},
   "outputs": [],
   "source": []
  },
  {
   "cell_type": "markdown",
   "id": "8034110b",
   "metadata": {
    "deletable": false,
    "id": 2
   },
   "source": [
    "### 2. Create & train a neural network"
   ]
  },
  {
   "cell_type": "markdown",
   "id": "517d6b9e",
   "metadata": {
    "deletable": false,
    "editable": false
   },
   "source": [
    "2.1 Split the dataset"
   ]
  },
  {
   "cell_type": "code",
   "execution_count": null,
   "id": "8f0c0e12",
   "metadata": {},
   "outputs": [],
   "source": []
  },
  {
   "cell_type": "markdown",
   "id": "9ffa0531",
   "metadata": {
    "deletable": false,
    "editable": false
   },
   "source": [
    "2.2 Create a neural network model. Use the __*create\\_model(model\\_type)*__ function. To create a CNN model write \"ConvolutionalNN\" for model type. ex: model_NN = create_model(\"NeuralNetwork\")"
   ]
  },
  {
   "cell_type": "code",
   "execution_count": null,
   "id": "08e363dd",
   "metadata": {},
   "outputs": [],
   "source": []
  },
  {
   "cell_type": "markdown",
   "id": "7bbb9d7b",
   "metadata": {
    "deletable": false,
    "editable": false
   },
   "source": [
    "2.3 Add 2 convolutional layers and 2 pooling layers to the CNN you just created. To add a layer use th function __*add\\_layer(model\\_name, layer\\_type, number\\_of\\_neurons)*__. ex: add_layer(model_CNN, \"Conv\", 35) - adds one convolutional layer with 35 feature maps.\n",
    "<br>__To add a convolutional layer write \"Conv\" as layer type__\n",
    "<br>__To add a pooling layer write \"Pooling\" as layer type__\n",
    "<br>__Note: experiment with the number of feature maps to get the optimal accuracy.__ <br>\n",
    "<br>\n",
    "Create the following architectures: <br>\n",
    "    - Conv - pooling <br>\n",
    "    - Conv - pooling - conv - pooling <br>\n",
    "    - Conv - pooling - conv - pooling - conv -pooling <br>\n",
    "Experiment with the following number of neurons per conv layer: [20, 40, 60]\n"
   ]
  },
  {
   "cell_type": "code",
   "execution_count": null,
   "id": "fc47c114",
   "metadata": {},
   "outputs": [],
   "source": []
  },
  {
   "cell_type": "markdown",
   "id": "d67c48d6",
   "metadata": {
    "deletable": false,
    "tags": []
   },
   "source": [
    "2.4 Train the model on 10 epochs using the __*train_model(model_name, training_data, labels_column_name, image_column_name, n_epochs = number_of_epochs)*__. ex: train_model(model_CNN, train_df, \"ClassName\", \"Image\", n_epochs = 10) - trains the neural network model on 10 epochs.\n",
    "<br><br>\n",
    "__The results displayed will show the training in progress per epoch and the accuracy at the end of each epoch__\n",
    "<br>\n",
    "Train the model on 10 epochs. Compare the results."
   ]
  },
  {
   "cell_type": "code",
   "execution_count": null,
   "id": "d15f1c0a",
   "metadata": {},
   "outputs": [],
   "source": []
  },
  {
   "cell_type": "markdown",
   "id": "65e4669e",
   "metadata": {
    "deletable": false,
    "editable": false,
    "id": 3
   },
   "source": [
    "### 3. Test & evaluate the model"
   ]
  },
  {
   "cell_type": "markdown",
   "id": "8d8e7c1b",
   "metadata": {
    "deletable": false,
    "editable": false
   },
   "source": [
    "3.1 Check the accuracy of the model"
   ]
  },
  {
   "cell_type": "code",
   "execution_count": null,
   "id": "cd456e27",
   "metadata": {},
   "outputs": [],
   "source": []
  },
  {
   "cell_type": "markdown",
   "id": "cb50ff08",
   "metadata": {
    "deletable": false,
    "tags": []
   },
   "source": [
    "3.2 Show the confuson matrix. Use the function __*show_confusion_matrix([model_name, ...], testing_data)*__. The function takes in a list of models [model1, model2, ...]. You can show multiple confusion matrices next to each other and compare the results between different models."
   ]
  },
  {
   "cell_type": "code",
   "execution_count": null,
   "id": "33c1c42f",
   "metadata": {
    "editable": true,
    "slideshow": {
     "slide_type": ""
    },
    "tags": []
   },
   "outputs": [],
   "source": []
  },
  {
   "cell_type": "markdown",
   "id": "090c5583",
   "metadata": {
    "deletable": false,
    "slideshow": {
     "slide_type": ""
    },
    "tags": []
   },
   "source": [
    "3.3 Show the learning curve of the model. Use the function __*show_learning_curves([model_name,...], \"title_of_model\")*__."
   ]
  },
  {
   "cell_type": "code",
   "execution_count": null,
   "id": "304f2951",
   "metadata": {
    "editable": true,
    "slideshow": {
     "slide_type": ""
    },
    "tags": []
   },
   "outputs": [],
   "source": []
  }
 ],
 "metadata": {
  "kernelspec": {
   "display_name": "Python 3 (ipykernel)",
   "language": "python",
   "name": "python3"
  },
  "language_info": {
   "codemirror_mode": {
    "name": "ipython",
    "version": 3
   },
   "file_extension": ".py",
   "mimetype": "text/x-python",
   "name": "python",
   "nbconvert_exporter": "python",
   "pygments_lexer": "ipython3",
   "version": "3.9.7"
  }
 },
 "nbformat": 4,
 "nbformat_minor": 5
}
