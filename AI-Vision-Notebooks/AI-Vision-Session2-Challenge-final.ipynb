{
 "cells": [
  {
   "cell_type": "markdown",
   "id": "56448d9b-b3ab-4f90-87dd-8d253ed91bcf",
   "metadata": {},
   "source": [
    "## The tech startup that created a fashion application wants to add more items to suggest to their users. They want to experement with KNN and MLP models to choose the best model that would provide reccomendations to customers based on a picture they took. Choosing the model with the best performance will allow them to produce more accurate results with a larger number of classes.\n",
    "\n",
    "<img style=\"float: center; /\"  width = \"1000\"  src=\"Notebook Images/ML-M2-Session2-Challenge-Image1.png\">\n",
    "\n",
    "## Your task is to create, train and test a KNN Model and an artificial neural network Model on the fashion MNIST dataset which has 10 classes as shown below:\n",
    "<img style=\"float: center; /\"  width = \"1000\"  src=\"Notebook Images/ML-M2-Session2-Challenge-Image2.png\">\n",
    "\n",
    "## What you need to do:\n",
    "1. Load & show the fashion MNIST dataset\n",
    "2. Create & train a KNN model using different features and values of k\n",
    "3. Test & evaluate the KNN model\n",
    "4. Create & train an MLP model\n",
    "5. Test & evaluate the MLP model"
   ]
  },
  {
   "cell_type": "markdown",
   "id": "9b0f515f-6820-4dab-9099-f543f761127b",
   "metadata": {
    "tags": []
   },
   "source": [
    "### 1. Load & show the fashion MNIST dataset"
   ]
  },
  {
   "cell_type": "markdown",
   "id": "54e30357-6c47-452d-8da5-d9d67bd2f12d",
   "metadata": {},
   "source": [
    "1.1 Load the dataset using the __*load(filename, numner_of_images)*__ function. filename = \"fashion_mnist\". Experiment with three data sizes: [10000, 30000, 60000]"
   ]
  },
  {
   "cell_type": "code",
   "execution_count": 2,
   "id": "393ac3ef-9261-4b19-9f9a-4249950e4ed5",
   "metadata": {
    "tags": []
   },
   "outputs": [],
   "source": [
    "data_df = load(\"fashion_mnist\", 10000)"
   ]
  },
  {
   "cell_type": "markdown",
   "id": "ef49e113-b566-49cd-9fa1-02ebf5c123d3",
   "metadata": {},
   "source": [
    "1.2 Show the dataset in a table format using the __*show(data)*__ function"
   ]
  },
  {
   "cell_type": "code",
   "execution_count": null,
   "id": "aa9dd880-5f1f-4998-9f49-a7cc67a4dd31",
   "metadata": {
    "tags": []
   },
   "outputs": [],
   "source": [
    "show(data_df)"
   ]
  },
  {
   "cell_type": "markdown",
   "id": "616fb9bd-519f-4d22-abe5-1f8c1033fc4f",
   "metadata": {},
   "source": [
    "1.3 Split the dataset"
   ]
  },
  {
   "cell_type": "code",
   "execution_count": null,
   "id": "bda0823e-461b-40f1-ab08-321d415ab2ac",
   "metadata": {},
   "outputs": [],
   "source": [
    "train_df, test_df = split_table(data_df)"
   ]
  },
  {
   "cell_type": "markdown",
   "id": "83eafd89-349c-4b47-8304-482bda4d760a",
   "metadata": {
    "tags": []
   },
   "source": [
    "### 2. Create & train a KNN Model"
   ]
  },
  {
   "cell_type": "markdown",
   "id": "b6b6bd71-547e-430f-a293-6b679bb669c0",
   "metadata": {},
   "source": [
    "2.1 Extract the follwing features and apply them on the train_df and test_df data [raw images, grey scale, color histogram]"
   ]
  },
  {
   "cell_type": "code",
   "execution_count": null,
   "id": "61b913f4-8ba8-418c-8c0f-e6ea99093d43",
   "metadata": {},
   "outputs": [],
   "source": []
  },
  {
   "cell_type": "code",
   "execution_count": null,
   "id": "eb1e741b-3667-4a0d-bc6f-871197cbfbd8",
   "metadata": {},
   "outputs": [],
   "source": []
  },
  {
   "cell_type": "code",
   "execution_count": null,
   "id": "b54b4219-47a8-4a8a-9341-da6d902cfe78",
   "metadata": {},
   "outputs": [],
   "source": []
  },
  {
   "cell_type": "markdown",
   "id": "f174a3d3-bd2d-4728-adc1-58e3e9cb2bf7",
   "metadata": {},
   "source": [
    "2.2 Create a KNN model with K = [3, 5, 10]"
   ]
  },
  {
   "cell_type": "code",
   "execution_count": null,
   "id": "796c2600-6901-494a-b38c-97f244ca678d",
   "metadata": {},
   "outputs": [],
   "source": []
  },
  {
   "cell_type": "markdown",
   "id": "936595fe-cc4d-462d-933c-f5f5eef18b1e",
   "metadata": {},
   "source": [
    "2.4 Train the model using the training data with 10 epochs"
   ]
  },
  {
   "cell_type": "code",
   "execution_count": null,
   "id": "0bdfb26b-e648-468c-b9aa-d051e6e99eb5",
   "metadata": {},
   "outputs": [],
   "source": [
    "fit_model(model_NN, train_df, \"ClassName\", \"Image\")"
   ]
  },
  {
   "cell_type": "markdown",
   "id": "0482a0a4-4029-4374-819a-07a4db82fd3f",
   "metadata": {
    "tags": []
   },
   "source": [
    "### 3. Test & evaluate the KNN model"
   ]
  },
  {
   "cell_type": "markdown",
   "id": "acedd04f-d5a6-4d21-864f-85112ebf9e31",
   "metadata": {},
   "source": [
    "3.1 Check the accuracy of the model "
   ]
  },
  {
   "cell_type": "code",
   "execution_count": null,
   "id": "188d6e9f-5ea3-4a9c-b44e-51a592285827",
   "metadata": {},
   "outputs": [],
   "source": [
    "check_accuracy(model_NN, test_df)"
   ]
  },
  {
   "cell_type": "markdown",
   "id": "f9be73e8-192b-44e6-b3de-51cce8309f8f",
   "metadata": {},
   "source": [
    "### 4. Create & train an MLP Model\n"
   ]
  },
  {
   "cell_type": "code",
   "execution_count": null,
   "id": "936e7738-f291-46c8-8a5d-5e5da4a09b37",
   "metadata": {},
   "outputs": [],
   "source": [
    "4.1 Create a Neural Network model"
   ]
  },
  {
   "cell_type": "code",
   "execution_count": null,
   "id": "bf18ad56-345c-4b5e-81b4-fc08c6ad9fbb",
   "metadata": {},
   "outputs": [],
   "source": [
    "model_NN = create_model(\"NeuralNetwork\")"
   ]
  },
  {
   "cell_type": "markdown",
   "id": "2979d969-47c3-4ab4-9858-0cc3523ce4d4",
   "metadata": {},
   "source": [
    "4.2 Experiment with 1 - 3 Hidden layers with a combination of the following number of neurons: [20, 40]"
   ]
  },
  {
   "cell_type": "code",
   "execution_count": null,
   "id": "ad659a8b-517e-4906-bb36-33eea199d87b",
   "metadata": {},
   "outputs": [],
   "source": [
    "add_layer(model_NN, \"Hidden\", 40)\n",
    "add_layer(model_NN, \"Hidden\", 40)\n",
    "add_layer(model_NN, \"Hidden\", 20)"
   ]
  },
  {
   "cell_type": "markdown",
   "id": "ddb1972e-c395-4a0a-9da8-5a852faf3851",
   "metadata": {},
   "source": [
    "4.3 Train the model using the training data with 10 epochs"
   ]
  },
  {
   "cell_type": "code",
   "execution_count": null,
   "id": "9261892b-5bb1-499d-ac7b-85e4f6212b47",
   "metadata": {},
   "outputs": [],
   "source": [
    "train_model(model_NN, train_df, \"ClassName\", \"Image\", n_epochs = 10)"
   ]
  },
  {
   "cell_type": "markdown",
   "id": "2344c3f8-55eb-4367-a9fe-134932ebf928",
   "metadata": {},
   "source": [
    "### 5.  Test & evaluate the MLP model"
   ]
  },
  {
   "cell_type": "markdown",
   "id": "44ec0e6c-5b6f-4f50-94af-679541d47fb8",
   "metadata": {},
   "source": [
    "5.1 Check the accuracy of the model "
   ]
  },
  {
   "cell_type": "code",
   "execution_count": null,
   "id": "20c69f7b-1c51-4b67-b6c2-38114204bc0f",
   "metadata": {},
   "outputs": [],
   "source": [
    "check_accuracy(model_NN, test_df)"
   ]
  },
  {
   "cell_type": "markdown",
   "id": "665bcc3b-3edb-4546-b637-5f5039fa9c22",
   "metadata": {
    "tags": []
   },
   "source": [
    "5.2 Show the learning curve of the model"
   ]
  },
  {
   "cell_type": "code",
   "execution_count": null,
   "id": "5269d596-c400-4138-823e-7e32547246f5",
   "metadata": {},
   "outputs": [],
   "source": [
    "show_learning_curves(model_NN,train_df )"
   ]
  }
 ],
 "metadata": {
  "kernelspec": {
   "display_name": "Python 3 (ipykernel)",
   "language": "python",
   "name": "python3"
  },
  "language_info": {
   "codemirror_mode": {
    "name": "ipython",
    "version": 3
   },
   "file_extension": ".py",
   "mimetype": "text/x-python",
   "name": "python",
   "nbconvert_exporter": "python",
   "pygments_lexer": "ipython3",
   "version": "3.9.7"
  }
 },
 "nbformat": 4,
 "nbformat_minor": 5
}
