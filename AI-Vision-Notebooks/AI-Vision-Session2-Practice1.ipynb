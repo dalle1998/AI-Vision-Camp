{
 "cells": [
  {
   "cell_type": "markdown",
   "id": "274529b2",
   "metadata": {
    "deletable": true,
    "tags": []
   },
   "source": [
    "<p style= \"color:red;\">NOTES: Merge practice1 & practice2 together. Make it so that students load data and then train a KNN model with different k values then compare. Afer that let them create an MLP with different configs and then compare. Remove the parts about confusion matrix since we don't cover that in session 2. Add a cell for KNN section where they can extract features as well, allowing them to experiment<p><p>"
   ]
  },
  {
   "cell_type": "markdown",
   "id": "b9bd3070",
   "metadata": {
    "deletable": false,
    "editable": true,
    "slideshow": {
     "slide_type": ""
    },
    "tags": []
   },
   "source": [
    "## A team of researchers are trying to develop a machine that can diagnose brain tumors for patients based on x-ray scans of their brains. They are hoping that the machine can help doctors diagnose correctly in order to treat the patients with brain tumors as fast as possible. \n",
    "## The problem is very critical, so the team are taking their time to find the best ML model that gives the highest possible accuracy so that the amount of false positives and true negatives are minimal.\n",
    "<img style=\"float: center; /\"  width = \"1000\"  src=\"Notebook Images/ML-M2-Session1-Challenge-Image1.png\">\n",
    "\n",
    "## Your task is to train a KNN model that can classify an xray scan image as healthy or with Brain Tumor.\n",
    "<img style=\"float: center; /\"  width = \"500\"  src=\"Notebook Images/ML-M2-Session1-Challenge-Image2.png\">\n",
    "\n",
    "## What you need to do:\n",
    "1. Load & show from the brain tumor dataset: <br>\n",
    "    1.1 Load and show 500 images <br>\n",
    "    1.2 Load 1000 images <br>\n",
    "    1.3 Load 4600 images (Full dataset) <br>\n",
    "2. Create, train, test & evaluate a KNN model using three values for k = [3, 5, 10] for each of the following data sizes:<br>\n",
    "    2.1 500 images <br>\n",
    "    2.2 1000 images <br>\n",
    "    2.3 4600 images <br>"
   ]
  },
  {
   "cell_type": "markdown",
   "id": "33c69f7e",
   "metadata": {
    "deletable": false,
    "editable": false,
    "id": 1,
    "slideshow": {
     "slide_type": ""
    },
    "tags": []
   },
   "source": [
    "### 1. Load & show from the brain tumor dataset"
   ]
  },
  {
   "cell_type": "markdown",
   "id": "ff78f634",
   "metadata": {
    "deletable": false,
    "editable": false,
    "id": 1.1,
    "slideshow": {
     "slide_type": ""
    },
    "tags": []
   },
   "source": [
    "### 1.1 500 images"
   ]
  },
  {
   "cell_type": "markdown",
   "id": "c6d2aed5",
   "metadata": {
    "deletable": false
   },
   "source": [
    "1.1.1 Load 500 images from the brain tumor dataset. filename = brain_tumor"
   ]
  },
  {
   "cell_type": "code",
   "execution_count": 1,
   "id": "8401659f",
   "metadata": {
    "editable": true,
    "slideshow": {
     "slide_type": ""
    },
    "tags": []
   },
   "outputs": [],
   "source": [
    "data_500 = load(\"brain_tumor\", 500)"
   ]
  },
  {
   "cell_type": "markdown",
   "id": "082352a6",
   "metadata": {
    "deletable": false
   },
   "source": [
    "1.1.2 Show the dataset"
   ]
  },
  {
   "cell_type": "code",
   "execution_count": 13,
   "id": "afe2edee",
   "metadata": {
    "editable": true,
    "scrolled": true,
    "slideshow": {
     "slide_type": ""
    },
    "tags": []
   },
   "outputs": [
    {
     "name": "stdout",
     "output_type": "stream",
     "text": [
      "Showing the first 10 rows\n"
     ]
    },
    {
     "data": {
      "application/vnd.jupyter.widget-view+json": {
       "model_id": "81f577ae4f6448129737657cad5c34fc",
       "version_major": 2,
       "version_minor": 0
      },
      "text/plain": [
       "VBox(children=(IntSlider(value=1, description='Page:', max=11, min=1), Button(description='Apply', style=Butto…"
      ]
     },
     "metadata": {},
     "output_type": "display_data"
    },
    {
     "data": {
      "text/plain": [
       "<easy_ds.EasyImageDataframe at 0x70c29fd7a560>"
      ]
     },
     "execution_count": 13,
     "metadata": {},
     "output_type": "execute_result"
    }
   ],
   "source": [
    "show(data_500)"
   ]
  },
  {
   "cell_type": "markdown",
   "id": "d36cff9d",
   "metadata": {
    "deletable": false,
    "editable": false,
    "id": 1.2,
    "slideshow": {
     "slide_type": ""
    },
    "tags": []
   },
   "source": [
    "### 1.2 1000 images"
   ]
  },
  {
   "cell_type": "markdown",
   "id": "e43ff553",
   "metadata": {
    "deletable": false
   },
   "source": [
    "1.2.1 Load 1000 images from the brain tumor dataset"
   ]
  },
  {
   "cell_type": "code",
   "execution_count": 3,
   "id": "d5816a49",
   "metadata": {},
   "outputs": [],
   "source": [
    "data_1000 = load(\"brain_tumor\",1000)"
   ]
  },
  {
   "cell_type": "markdown",
   "id": "c62ac4ed",
   "metadata": {
    "deletable": false
   },
   "source": [
    "1.2.2 Show the dataset"
   ]
  },
  {
   "cell_type": "code",
   "execution_count": 4,
   "id": "c5c167dc",
   "metadata": {
    "scrolled": true
   },
   "outputs": [
    {
     "name": "stdout",
     "output_type": "stream",
     "text": [
      "Showing the first 10 rows\n"
     ]
    },
    {
     "data": {
      "application/vnd.jupyter.widget-view+json": {
       "model_id": "b0ebe33466eb4013ae9a51955c3ecdc5",
       "version_major": 2,
       "version_minor": 0
      },
      "text/plain": [
       "VBox(children=(IntSlider(value=1, description='Page:', max=21, min=1), Button(description='Apply', style=Butto…"
      ]
     },
     "metadata": {},
     "output_type": "display_data"
    },
    {
     "data": {
      "text/plain": [
       "<easy_ds.EasyImageDataframe at 0x70c29fd7a350>"
      ]
     },
     "execution_count": 4,
     "metadata": {},
     "output_type": "execute_result"
    }
   ],
   "source": [
    "show(data_1000)"
   ]
  },
  {
   "cell_type": "markdown",
   "id": "abb6a560",
   "metadata": {
    "deletable": false,
    "id": 1.3
   },
   "source": [
    "### 1.3 4600 images"
   ]
  },
  {
   "cell_type": "markdown",
   "id": "c31a8115",
   "metadata": {
    "deletable": false,
    "editable": false
   },
   "source": [
    "1.3.1 Load 4600 images from the brain tumor dataset"
   ]
  },
  {
   "cell_type": "code",
   "execution_count": 5,
   "id": "1d36eec8",
   "metadata": {},
   "outputs": [],
   "source": [
    "data = load(\"brain_tumor\",4600)"
   ]
  },
  {
   "cell_type": "markdown",
   "id": "5a9776a1",
   "metadata": {
    "deletable": false,
    "editable": false
   },
   "source": [
    "1.3.2 Show the dataset"
   ]
  },
  {
   "cell_type": "code",
   "execution_count": 6,
   "id": "c821444c",
   "metadata": {
    "editable": true,
    "scrolled": true,
    "slideshow": {
     "slide_type": ""
    },
    "tags": []
   },
   "outputs": [
    {
     "name": "stdout",
     "output_type": "stream",
     "text": [
      "Showing the first 10 rows\n"
     ]
    },
    {
     "data": {
      "application/vnd.jupyter.widget-view+json": {
       "model_id": "3a0b8805eeb5494ca470a872f0e21294",
       "version_major": 2,
       "version_minor": 0
      },
      "text/plain": [
       "VBox(children=(IntSlider(value=1, description='Page:', max=93, min=1), Button(description='Apply', style=Butto…"
      ]
     },
     "metadata": {},
     "output_type": "display_data"
    },
    {
     "data": {
      "text/plain": [
       "<easy_ds.EasyImageDataframe at 0x70c29f3f3df0>"
      ]
     },
     "execution_count": 6,
     "metadata": {},
     "output_type": "execute_result"
    }
   ],
   "source": [
    "show(data)"
   ]
  },
  {
   "cell_type": "markdown",
   "id": "f40cf252",
   "metadata": {
    "deletable": false,
    "editable": false,
    "id": 2
   },
   "source": [
    "### 2. Create, train, test & evaluate a KNN model using three values for k = [3, 5, 10] for each subset"
   ]
  },
  {
   "cell_type": "markdown",
   "id": "2977790b",
   "metadata": {
    "deletable": false,
    "editable": false,
    "id": 2.1
   },
   "source": [
    "### 2.1 500 images"
   ]
  },
  {
   "cell_type": "markdown",
   "id": "e00cad4d",
   "metadata": {
    "deletable": false,
    "editable": false
   },
   "source": [
    "2.1.1 Split the dataset"
   ]
  },
  {
   "cell_type": "code",
   "execution_count": 7,
   "id": "5adee267",
   "metadata": {},
   "outputs": [],
   "source": [
    "train_500, test_500 = split_table(data_500)"
   ]
  },
  {
   "cell_type": "markdown",
   "id": "76cf5c89",
   "metadata": {
    "deletable": false,
    "editable": false
   },
   "source": [
    "2.1.2 Train a KNN model for each value of k, test & evaluate the model by showing the classification report. Use a timer to record the execution time for the training. "
   ]
  },
  {
   "cell_type": "code",
   "execution_count": 8,
   "id": "09c13782",
   "metadata": {
    "editable": true,
    "slideshow": {
     "slide_type": ""
    },
    "tags": []
   },
   "outputs": [
    {
     "name": "stdout",
     "output_type": "stream",
     "text": [
      "Execution Time: 2.1216506958007812 seconds\n",
      "For k = 3\n",
      "Accuracy score of the model is: 70.0 %\n",
      "\n",
      "\n",
      "For k = 3\n"
     ]
    },
    {
     "data": {
      "text/html": [
       "<table border=\"1\" class=\"dataframe\">\n",
       "  <thead>\n",
       "    <tr style=\"text-align: right;\">\n",
       "      <th></th>\n",
       "      <th>precision</th>\n",
       "      <th>recall</th>\n",
       "    </tr>\n",
       "  </thead>\n",
       "  <tbody>\n",
       "    <tr>\n",
       "      <th>Brain Tumor</th>\n",
       "      <td>0.857143</td>\n",
       "      <td>0.60</td>\n",
       "    </tr>\n",
       "    <tr>\n",
       "      <th>Healthy</th>\n",
       "      <td>0.586207</td>\n",
       "      <td>0.85</td>\n",
       "    </tr>\n",
       "  </tbody>\n",
       "</table>"
      ],
      "text/plain": [
       "<IPython.core.display.HTML object>"
      ]
     },
     "metadata": {},
     "output_type": "display_data"
    },
    {
     "name": "stdout",
     "output_type": "stream",
     "text": [
      "\n",
      "\n",
      "Execution Time: 0.7205214500427246 seconds\n",
      "For k = 5\n",
      "Accuracy score of the model is: 68.0 %\n",
      "\n",
      "\n",
      "For k = 5\n"
     ]
    },
    {
     "data": {
      "text/html": [
       "<table border=\"1\" class=\"dataframe\">\n",
       "  <thead>\n",
       "    <tr style=\"text-align: right;\">\n",
       "      <th></th>\n",
       "      <th>precision</th>\n",
       "      <th>recall</th>\n",
       "    </tr>\n",
       "  </thead>\n",
       "  <tbody>\n",
       "    <tr>\n",
       "      <th>Brain Tumor</th>\n",
       "      <td>0.804348</td>\n",
       "      <td>0.616667</td>\n",
       "    </tr>\n",
       "    <tr>\n",
       "      <th>Healthy</th>\n",
       "      <td>0.574074</td>\n",
       "      <td>0.775000</td>\n",
       "    </tr>\n",
       "  </tbody>\n",
       "</table>"
      ],
      "text/plain": [
       "<IPython.core.display.HTML object>"
      ]
     },
     "metadata": {},
     "output_type": "display_data"
    },
    {
     "name": "stdout",
     "output_type": "stream",
     "text": [
      "\n",
      "\n",
      "Execution Time: 0.722639799118042 seconds\n",
      "For k = 10\n",
      "Accuracy score of the model is: 70.0 %\n",
      "\n",
      "\n",
      "For k = 10\n"
     ]
    },
    {
     "data": {
      "text/html": [
       "<table border=\"1\" class=\"dataframe\">\n",
       "  <thead>\n",
       "    <tr style=\"text-align: right;\">\n",
       "      <th></th>\n",
       "      <th>precision</th>\n",
       "      <th>recall</th>\n",
       "    </tr>\n",
       "  </thead>\n",
       "  <tbody>\n",
       "    <tr>\n",
       "      <th>Brain Tumor</th>\n",
       "      <td>0.750</td>\n",
       "      <td>0.750</td>\n",
       "    </tr>\n",
       "    <tr>\n",
       "      <th>Healthy</th>\n",
       "      <td>0.625</td>\n",
       "      <td>0.625</td>\n",
       "    </tr>\n",
       "  </tbody>\n",
       "</table>"
      ],
      "text/plain": [
       "<IPython.core.display.HTML object>"
      ]
     },
     "metadata": {},
     "output_type": "display_data"
    },
    {
     "name": "stdout",
     "output_type": "stream",
     "text": [
      "\n",
      "\n"
     ]
    }
   ],
   "source": [
    "neighbors = [3, 5, 10]\n",
    "for k in neighbors:\n",
    "    # Create the KNN model\n",
    "    model = create_model(\"knn\", k)\n",
    "    # Train the model\n",
    "    fit_model(model, train_500, \"ClassName\", \"Image\")\n",
    "    # Check the accuracy of the model\n",
    "    check_accuracy(model, test_500)\n",
    "    # Show the classifciation report\n",
    "    show_classification_report(model, test_500)"
   ]
  },
  {
   "cell_type": "markdown",
   "id": "a21e6969",
   "metadata": {
    "deletable": false,
    "editable": false,
    "id": 2.2
   },
   "source": [
    "### 2.2 1000 images"
   ]
  },
  {
   "cell_type": "markdown",
   "id": "681954fe",
   "metadata": {
    "deletable": false,
    "editable": false
   },
   "source": [
    "2.2.1 Split the dataset"
   ]
  },
  {
   "cell_type": "code",
   "execution_count": 9,
   "id": "e06917cd",
   "metadata": {},
   "outputs": [],
   "source": [
    "train_1000, test_1000 = split_table(data_1000)"
   ]
  },
  {
   "cell_type": "markdown",
   "id": "6d3559f3",
   "metadata": {
    "deletable": false,
    "editable": false
   },
   "source": [
    "2.2.2 Train a KNN model for each value of k, test & evaluate the model by showing the classification report. Use a timer to record the execution time for the training. "
   ]
  },
  {
   "cell_type": "code",
   "execution_count": 10,
   "id": "6a720e75",
   "metadata": {
    "editable": true,
    "slideshow": {
     "slide_type": ""
    },
    "tags": []
   },
   "outputs": [
    {
     "name": "stdout",
     "output_type": "stream",
     "text": [
      "Execution Time: 3.120209217071533 seconds\n",
      "For k = 3\n",
      "Accuracy score of the model is: 75.0 %\n",
      "\n",
      "\n",
      "For k = 3\n"
     ]
    },
    {
     "data": {
      "text/html": [
       "<table border=\"1\" class=\"dataframe\">\n",
       "  <thead>\n",
       "    <tr style=\"text-align: right;\">\n",
       "      <th></th>\n",
       "      <th>precision</th>\n",
       "      <th>recall</th>\n",
       "    </tr>\n",
       "  </thead>\n",
       "  <tbody>\n",
       "    <tr>\n",
       "      <th>Brain Tumor</th>\n",
       "      <td>0.813187</td>\n",
       "      <td>0.691589</td>\n",
       "    </tr>\n",
       "    <tr>\n",
       "      <th>Healthy</th>\n",
       "      <td>0.697248</td>\n",
       "      <td>0.817204</td>\n",
       "    </tr>\n",
       "  </tbody>\n",
       "</table>"
      ],
      "text/plain": [
       "<IPython.core.display.HTML object>"
      ]
     },
     "metadata": {},
     "output_type": "display_data"
    },
    {
     "name": "stdout",
     "output_type": "stream",
     "text": [
      "\n",
      "\n",
      "Execution Time: 1.5213892459869385 seconds\n",
      "For k = 5\n",
      "Accuracy score of the model is: 72.0 %\n",
      "\n",
      "\n",
      "For k = 5\n"
     ]
    },
    {
     "data": {
      "text/html": [
       "<table border=\"1\" class=\"dataframe\">\n",
       "  <thead>\n",
       "    <tr style=\"text-align: right;\">\n",
       "      <th></th>\n",
       "      <th>precision</th>\n",
       "      <th>recall</th>\n",
       "    </tr>\n",
       "  </thead>\n",
       "  <tbody>\n",
       "    <tr>\n",
       "      <th>Brain Tumor</th>\n",
       "      <td>0.786517</td>\n",
       "      <td>0.654206</td>\n",
       "    </tr>\n",
       "    <tr>\n",
       "      <th>Healthy</th>\n",
       "      <td>0.666667</td>\n",
       "      <td>0.795699</td>\n",
       "    </tr>\n",
       "  </tbody>\n",
       "</table>"
      ],
      "text/plain": [
       "<IPython.core.display.HTML object>"
      ]
     },
     "metadata": {},
     "output_type": "display_data"
    },
    {
     "name": "stdout",
     "output_type": "stream",
     "text": [
      "\n",
      "\n",
      "Execution Time: 1.496673583984375 seconds\n",
      "For k = 10\n",
      "Accuracy score of the model is: 74.0 %\n",
      "\n",
      "\n",
      "For k = 10\n"
     ]
    },
    {
     "data": {
      "text/html": [
       "<table border=\"1\" class=\"dataframe\">\n",
       "  <thead>\n",
       "    <tr style=\"text-align: right;\">\n",
       "      <th></th>\n",
       "      <th>precision</th>\n",
       "      <th>recall</th>\n",
       "    </tr>\n",
       "  </thead>\n",
       "  <tbody>\n",
       "    <tr>\n",
       "      <th>Brain Tumor</th>\n",
       "      <td>0.795699</td>\n",
       "      <td>0.691589</td>\n",
       "    </tr>\n",
       "    <tr>\n",
       "      <th>Healthy</th>\n",
       "      <td>0.691589</td>\n",
       "      <td>0.795699</td>\n",
       "    </tr>\n",
       "  </tbody>\n",
       "</table>"
      ],
      "text/plain": [
       "<IPython.core.display.HTML object>"
      ]
     },
     "metadata": {},
     "output_type": "display_data"
    },
    {
     "name": "stdout",
     "output_type": "stream",
     "text": [
      "\n",
      "\n"
     ]
    }
   ],
   "source": [
    "neighbors = [3, 5, 10]\n",
    "for k in neighbors:\n",
    "    # Create the KNN model\n",
    "    model = create_model(\"knn\", k)\n",
    "    # Train the model\n",
    "    fit_model(model, train_1000, \"ClassName\", \"Image\")\n",
    "    # Check the accuracy of the model\n",
    "    check_accuracy(model, test_1000)\n",
    "    # Show the classifciation report\n",
    "    show_classification_report(model, test_1000)"
   ]
  },
  {
   "cell_type": "markdown",
   "id": "7fa9274d",
   "metadata": {
    "deletable": false,
    "editable": false,
    "id": 2.3
   },
   "source": [
    "### 2.3 4600 images"
   ]
  },
  {
   "cell_type": "markdown",
   "id": "4c97fe59",
   "metadata": {
    "deletable": false,
    "editable": false
   },
   "source": [
    "2.3.1 Split the dataset"
   ]
  },
  {
   "cell_type": "code",
   "execution_count": 11,
   "id": "2d4eeacc",
   "metadata": {},
   "outputs": [],
   "source": [
    "train_data, test_data = split_table(data)"
   ]
  },
  {
   "cell_type": "markdown",
   "id": "ffb3643f",
   "metadata": {
    "deletable": false,
    "editable": false
   },
   "source": [
    "2.3.2 Train a KNN model for each value of k, test & evaluate the model by showing the classification report. Use a timer to record the execution time for the training. "
   ]
  },
  {
   "cell_type": "code",
   "execution_count": 12,
   "id": "d6313469",
   "metadata": {
    "editable": true,
    "slideshow": {
     "slide_type": ""
    },
    "tags": []
   },
   "outputs": [
    {
     "name": "stdout",
     "output_type": "stream",
     "text": [
      "Execution Time: 14.561015129089355 seconds\n",
      "For k = 3\n",
      "Accuracy score of the model is: 92.5 %\n",
      "\n",
      "\n",
      "For k = 3\n"
     ]
    },
    {
     "data": {
      "text/html": [
       "<table border=\"1\" class=\"dataframe\">\n",
       "  <thead>\n",
       "    <tr style=\"text-align: right;\">\n",
       "      <th></th>\n",
       "      <th>precision</th>\n",
       "      <th>recall</th>\n",
       "    </tr>\n",
       "  </thead>\n",
       "  <tbody>\n",
       "    <tr>\n",
       "      <th>Brain Tumor</th>\n",
       "      <td>0.942974</td>\n",
       "      <td>0.918651</td>\n",
       "    </tr>\n",
       "    <tr>\n",
       "      <th>Healthy</th>\n",
       "      <td>0.904429</td>\n",
       "      <td>0.932692</td>\n",
       "    </tr>\n",
       "  </tbody>\n",
       "</table>"
      ],
      "text/plain": [
       "<IPython.core.display.HTML object>"
      ]
     },
     "metadata": {},
     "output_type": "display_data"
    },
    {
     "name": "stdout",
     "output_type": "stream",
     "text": [
      "\n",
      "\n",
      "Execution Time: 6.554127216339111 seconds\n",
      "For k = 5\n",
      "Accuracy score of the model is: 90.8695652173913 %\n",
      "\n",
      "\n",
      "For k = 5\n"
     ]
    },
    {
     "data": {
      "text/html": [
       "<table border=\"1\" class=\"dataframe\">\n",
       "  <thead>\n",
       "    <tr style=\"text-align: right;\">\n",
       "      <th></th>\n",
       "      <th>precision</th>\n",
       "      <th>recall</th>\n",
       "    </tr>\n",
       "  </thead>\n",
       "  <tbody>\n",
       "    <tr>\n",
       "      <th>Brain Tumor</th>\n",
       "      <td>0.941176</td>\n",
       "      <td>0.888889</td>\n",
       "    </tr>\n",
       "    <tr>\n",
       "      <th>Healthy</th>\n",
       "      <td>0.873874</td>\n",
       "      <td>0.932692</td>\n",
       "    </tr>\n",
       "  </tbody>\n",
       "</table>"
      ],
      "text/plain": [
       "<IPython.core.display.HTML object>"
      ]
     },
     "metadata": {},
     "output_type": "display_data"
    },
    {
     "name": "stdout",
     "output_type": "stream",
     "text": [
      "\n",
      "\n",
      "Execution Time: 6.478525400161743 seconds\n",
      "For k = 10\n",
      "Accuracy score of the model is: 86.6304347826087 %\n",
      "\n",
      "\n",
      "For k = 10\n"
     ]
    },
    {
     "data": {
      "text/html": [
       "<table border=\"1\" class=\"dataframe\">\n",
       "  <thead>\n",
       "    <tr style=\"text-align: right;\">\n",
       "      <th></th>\n",
       "      <th>precision</th>\n",
       "      <th>recall</th>\n",
       "    </tr>\n",
       "  </thead>\n",
       "  <tbody>\n",
       "    <tr>\n",
       "      <th>Brain Tumor</th>\n",
       "      <td>0.89441</td>\n",
       "      <td>0.857143</td>\n",
       "    </tr>\n",
       "    <tr>\n",
       "      <th>Healthy</th>\n",
       "      <td>0.83524</td>\n",
       "      <td>0.877404</td>\n",
       "    </tr>\n",
       "  </tbody>\n",
       "</table>"
      ],
      "text/plain": [
       "<IPython.core.display.HTML object>"
      ]
     },
     "metadata": {},
     "output_type": "display_data"
    },
    {
     "name": "stdout",
     "output_type": "stream",
     "text": [
      "\n",
      "\n"
     ]
    }
   ],
   "source": [
    "neighbors = [3,5,10]\n",
    "for k in neighbors:\n",
    "    # Create the KNN model\n",
    "    model = create_model(\"knn\", k)  \n",
    "    # Train the model\n",
    "    fit_model(model, train_data, \"ClassName\", \"Image\")\n",
    "    # Check the accuracy of the model\n",
    "    check_accuracy(model, test_data)\n",
    "    # Show the classifciation report\n",
    "    show_classification_report(model, test_data)"
   ]
  }
 ],
 "metadata": {
  "kernelspec": {
   "display_name": "Python 3 (ipykernel)",
   "language": "python",
   "name": "python3"
  },
  "language_info": {
   "codemirror_mode": {
    "name": "ipython",
    "version": 3
   },
   "file_extension": ".py",
   "mimetype": "text/x-python",
   "name": "python",
   "nbconvert_exporter": "python",
   "pygments_lexer": "ipython3",
   "version": "3.9.7"
  }
 },
 "nbformat": 4,
 "nbformat_minor": 5
}
