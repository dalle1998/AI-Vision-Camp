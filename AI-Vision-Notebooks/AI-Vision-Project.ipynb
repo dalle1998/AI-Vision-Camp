{
 "cells": [
  {
   "cell_type": "markdown",
   "id": "b22d6401",
   "metadata": {
    "deletable": false,
    "editable": false,
    "id": "b22d6401",
    "tags": []
   },
   "source": [
    "# **AI in Computer Vision Camp Project**\n",
    "\n",
    "---\n",
    "\n"
   ]
  },
  {
   "cell_type": "markdown",
   "id": "8f9bad55",
   "metadata": {
    "deletable": false,
    "id": "8f9bad55",
    "tags": []
   },
   "source": [
    "## Self driving cars are becoming more prevalent in our world today. However, the technology behind self driving cars is very complicated because it relies on various components such as sensors, cameras and machine learning. Every field needs improvements but the core element is the machine learning algorithm. The AI algorithm needs to detect traffic signs, pedestrians, traffic lights, road lines and other vehicles in order to properly navigate the road. The closer the accuracy of a model is to 100% the more suitable and safe it is for use.\n",
    "<img style=\"float: center; /\"  width = \"1000\"  src=\"Notebook Images/ML-M2-Project-Image1.png\">\n",
    "\n",
    "## Your task is to build an application that can detect and annotate traffic signs from a video input. \n",
    "## The following are the 43 classes of traffic signs:\n",
    "<img style=\"float: center; /\"  width = \"1000\"  src=\"Notebook Images/ML-M2-Project-Image2.png\">\n",
    "\n",
    "\n",
    "## What you need to do:\n",
    "1. Load, show & cleanse the traffic sign data & get the budget for the project\n",
    "2. Train and test a KNN model using three values for k = [3, 5, 10] and using two types of features:<br>\n",
    "    2.1. Raw pixels<br>\n",
    "    2.3. Color histogram\n",
    "3. Train and test a CNN model\n",
    "4. Compare the results and choose the best model"
   ]
  },
  {
   "cell_type": "markdown",
   "id": "33c69f7e",
   "metadata": {
    "deletable": false,
    "id": "33c69f7e",
    "tags": []
   },
   "source": [
    "### **1. Load, show & cleanse the traffic sign data and get the budget for the project**\n",
    "\n",
    "---\n",
    "\n"
   ]
  },
  {
   "cell_type": "markdown",
   "id": "705b12ff",
   "metadata": {
    "deletable": false,
    "id": "705b12ff",
    "tags": []
   },
   "source": [
    "1.1. Load the traffic sign dataset. filename = \"traffic_sign\""
   ]
  },
  {
   "cell_type": "code",
   "execution_count": null,
   "id": "8401659f",
   "metadata": {
    "id": "8401659f",
    "tags": []
   },
   "outputs": [],
   "source": []
  },
  {
   "cell_type": "markdown",
   "id": "fb310d47",
   "metadata": {
    "deletable": false,
    "id": "fb310d47",
    "tags": []
   },
   "source": [
    "1.2. Show the data in a table. Cleanse the data from any wrong labels and irrelevant images. The wrong data is only withing the first 30 rows in the dat"
   ]
  },
  {
   "cell_type": "code",
   "execution_count": null,
   "id": "afe2edee",
   "metadata": {
    "id": "afe2edee",
    "tags": []
   },
   "outputs": [],
   "source": []
  },
  {
   "cell_type": "markdown",
   "id": "35d606ab-0567-4c2c-ae30-d29514718cf2",
   "metadata": {
    "deletable": false,
    "editable": false,
    "id": "35d606ab-0567-4c2c-ae30-d29514718cf2",
    "tags": []
   },
   "source": [
    "1.3 Get the budget for the project"
   ]
  },
  {
   "cell_type": "code",
   "execution_count": null,
   "id": "cce50d8d-87a9-46f2-9e9e-c3a172adbc7a",
   "metadata": {
    "id": "cce50d8d-87a9-46f2-9e9e-c3a172adbc7a",
    "tags": []
   },
   "outputs": [],
   "source": []
  },
  {
   "cell_type": "markdown",
   "id": "a1e72e28-6cc5-4d2f-8689-6c9c2f83330c",
   "metadata": {},
   "source": [
    "### _From now you can use the cleansed dataset \"traffic_sign_clean\" while changing the data size of your data to the following: [5000, 10000, 35000]._"
   ]
  },
  {
   "cell_type": "markdown",
   "id": "f7c84f08",
   "metadata": {
    "deletable": false,
    "editable": false,
    "id": "f7c84f08"
   },
   "source": [
    "### **2. Train and test a KNN model using three values for k = [3, 5, 10]**\n",
    "\n",
    "---\n",
    "\n"
   ]
  },
  {
   "cell_type": "markdown",
   "id": "7cc4be9f",
   "metadata": {
    "deletable": false,
    "editable": false,
    "id": "7cc4be9f",
    "tags": []
   },
   "source": [
    "### 2.1 Using raw image pixels"
   ]
  },
  {
   "cell_type": "markdown",
   "id": "35749342",
   "metadata": {
    "deletable": false,
    "editable": false,
    "id": "35749342"
   },
   "source": [
    "2.1.1 Split the data"
   ]
  },
  {
   "cell_type": "code",
   "execution_count": null,
   "id": "0850cc7c",
   "metadata": {
    "id": "0850cc7c",
    "tags": []
   },
   "outputs": [],
   "source": []
  },
  {
   "cell_type": "markdown",
   "id": "09585c6f",
   "metadata": {
    "deletable": false,
    "editable": false,
    "id": "09585c6f"
   },
   "source": [
    "2.1.2 Create, train & test the KNN models"
   ]
  },
  {
   "cell_type": "code",
   "execution_count": null,
   "id": "09c13782",
   "metadata": {
    "id": "09c13782",
    "tags": []
   },
   "outputs": [],
   "source": []
  },
  {
   "cell_type": "markdown",
   "id": "e3da2839",
   "metadata": {
    "deletable": false,
    "editable": false,
    "id": "e3da2839"
   },
   "source": [
    "### 2.2 Using color histogram features"
   ]
  },
  {
   "cell_type": "markdown",
   "id": "0a8641c4",
   "metadata": {
    "deletable": false,
    "editable": false,
    "id": "0a8641c4"
   },
   "source": [
    "2.2.1 Extract the red histogram features. Define the number of bins to extract."
   ]
  },
  {
   "cell_type": "code",
   "execution_count": null,
   "id": "838cfc96",
   "metadata": {
    "id": "838cfc96"
   },
   "outputs": [],
   "source": [
    "def extract_feature_hist_red(row):\n",
    "   \n",
    "    return"
   ]
  },
  {
   "cell_type": "markdown",
   "id": "4efcd705",
   "metadata": {
    "deletable": false,
    "editable": false,
    "id": "4efcd705"
   },
   "source": [
    "2.2.2 Apply the feature extraction"
   ]
  },
  {
   "cell_type": "code",
   "execution_count": null,
   "id": "8441d2f9",
   "metadata": {
    "id": "8441d2f9"
   },
   "outputs": [],
   "source": []
  },
  {
   "cell_type": "markdown",
   "id": "679fc8a4-1c4d-4b9c-a77c-7e465c234e61",
   "metadata": {
    "id": "4efcd705",
    "tags": []
   },
   "source": [
    "2.2.3 Show the data in a table"
   ]
  },
  {
   "cell_type": "code",
   "execution_count": null,
   "id": "687219db-fb75-4152-be19-55cafca6ca31",
   "metadata": {},
   "outputs": [],
   "source": []
  },
  {
   "cell_type": "markdown",
   "id": "000007c4",
   "metadata": {
    "deletable": false,
    "editable": false,
    "id": "000007c4"
   },
   "source": [
    "2.2.4 Extract the green histogram features"
   ]
  },
  {
   "cell_type": "code",
   "execution_count": null,
   "id": "9f330c17",
   "metadata": {
    "id": "9f330c17"
   },
   "outputs": [],
   "source": [
    "def extract_feature_hist_green(row):\n",
    " \n",
    "    return "
   ]
  },
  {
   "cell_type": "markdown",
   "id": "1b38cef7",
   "metadata": {
    "deletable": false,
    "editable": false,
    "id": "1b38cef7"
   },
   "source": [
    "2.2.5 Apply the feature extraction"
   ]
  },
  {
   "cell_type": "code",
   "execution_count": null,
   "id": "089a83e5",
   "metadata": {
    "id": "089a83e5"
   },
   "outputs": [],
   "source": []
  },
  {
   "cell_type": "markdown",
   "id": "cc815b67",
   "metadata": {
    "deletable": false,
    "editable": false,
    "id": "cc815b67"
   },
   "source": [
    "2.2.6 Show the data in a table"
   ]
  },
  {
   "cell_type": "code",
   "execution_count": null,
   "id": "1b741c16",
   "metadata": {
    "id": "1b741c16",
    "scrolled": true
   },
   "outputs": [],
   "source": []
  },
  {
   "cell_type": "markdown",
   "id": "2e8583c2",
   "metadata": {
    "deletable": false,
    "editable": false,
    "id": "2e8583c2"
   },
   "source": [
    "2.2.7 Extract the blue histogram features"
   ]
  },
  {
   "cell_type": "code",
   "execution_count": null,
   "id": "9265f425",
   "metadata": {
    "id": "9265f425"
   },
   "outputs": [],
   "source": [
    "def extract_feature_hist_blue(row):\n",
    "\n",
    "    return "
   ]
  },
  {
   "cell_type": "markdown",
   "id": "85e60147",
   "metadata": {
    "deletable": false,
    "editable": false,
    "id": "85e60147"
   },
   "source": [
    "2.2.8 Apply the feature extraction"
   ]
  },
  {
   "cell_type": "code",
   "execution_count": null,
   "id": "0f44fe29",
   "metadata": {
    "id": "0f44fe29"
   },
   "outputs": [],
   "source": []
  },
  {
   "cell_type": "markdown",
   "id": "ed72ee98",
   "metadata": {
    "deletable": false,
    "editable": false,
    "id": "ed72ee98"
   },
   "source": [
    "2.2.9 Show the data in a table"
   ]
  },
  {
   "cell_type": "code",
   "execution_count": null,
   "id": "32cf991d",
   "metadata": {
    "id": "32cf991d",
    "scrolled": true
   },
   "outputs": [],
   "source": []
  },
  {
   "cell_type": "markdown",
   "id": "bb31b738",
   "metadata": {
    "deletable": false,
    "editable": false,
    "id": "bb31b738"
   },
   "source": [
    "2.2.10 Split the data"
   ]
  },
  {
   "cell_type": "code",
   "execution_count": null,
   "id": "54f53891",
   "metadata": {
    "id": "54f53891"
   },
   "outputs": [],
   "source": []
  },
  {
   "cell_type": "markdown",
   "id": "00b0afc2",
   "metadata": {
    "deletable": false,
    "editable": false,
    "id": "00b0afc2"
   },
   "source": [
    "2.2.11 Create, train & test the KNN models"
   ]
  },
  {
   "cell_type": "code",
   "execution_count": null,
   "id": "9f45279a",
   "metadata": {
    "id": "9f45279a"
   },
   "outputs": [],
   "source": []
  },
  {
   "cell_type": "markdown",
   "id": "Njdcdsk-3j7u",
   "metadata": {
    "id": "Njdcdsk-3j7u"
   },
   "source": [
    "### **3. Train and test a CNN model**\n",
    "\n",
    "---"
   ]
  },
  {
   "cell_type": "markdown",
   "id": "_Z5gbUTyNNsz",
   "metadata": {
    "id": "_Z5gbUTyNNsz"
   },
   "source": [
    "3.1 Create a Convolutional Neural Network"
   ]
  },
  {
   "cell_type": "code",
   "execution_count": null,
   "id": "rffLnwgNNQ6S",
   "metadata": {
    "id": "rffLnwgNNQ6S"
   },
   "outputs": [],
   "source": []
  },
  {
   "cell_type": "markdown",
   "id": "f9lZlPV5NU5D",
   "metadata": {
    "id": "f9lZlPV5NU5D"
   },
   "source": [
    "3.2 Create each of the following architectures and compare: - [Convolutional - Pooling] - [Conv - Pooling - Conv - Pooling] Experiment with the following number of Neurons per Conv layer: [20, 40, 60]"
   ]
  },
  {
   "cell_type": "code",
   "execution_count": null,
   "id": "Mwj3-95QNXEd",
   "metadata": {
    "id": "Mwj3-95QNXEd"
   },
   "outputs": [],
   "source": []
  },
  {
   "cell_type": "markdown",
   "id": "f7Utv8lxNXtS",
   "metadata": {
    "id": "f7Utv8lxNXtS"
   },
   "source": [
    "3.3 Train the model using the training data. Specify the number of epochs. Train the model on different dataset sizes with 5 or 10 epochs. Compare each approach."
   ]
  },
  {
   "cell_type": "code",
   "execution_count": null,
   "id": "bdTXBEE1Ncfe",
   "metadata": {
    "id": "bdTXBEE1Ncfe"
   },
   "outputs": [],
   "source": []
  },
  {
   "cell_type": "markdown",
   "id": "41bb6529-b4d6-4ef5-b8b6-9917c3306f30",
   "metadata": {},
   "source": [
    "Train multiple models using the training data. Specify the number of epochs. Train the models on different dataset sizes with 5 or 10 epochs. Compare each approach.\n",
    "- Experiment with: Number of Convolutional & Pooling Layers [Convolutional - Pooling] - [Conv - Pooling - Conv - Pooling]\n",
    "- Experiment with: Number of neurons per layer: [20, 40, 60]\n",
    "- Experiment with: Data Size [5000, 10000, 35000]"
   ]
  },
  {
   "cell_type": "code",
   "execution_count": null,
   "id": "16a15e63-7609-41bc-8265-9f8d06985940",
   "metadata": {
    "tags": []
   },
   "outputs": [],
   "source": []
  },
  {
   "cell_type": "markdown",
   "id": "97d906ad",
   "metadata": {
    "deletable": false,
    "id": "97d906ad",
    "tags": []
   },
   "source": [
    "### **4. Compare the results and choose the best model**\n",
    "\n",
    "---\n",
    "\n",
    "\n"
   ]
  },
  {
   "cell_type": "markdown",
   "id": "r73C4pL-OYXi",
   "metadata": {
    "id": "r73C4pL-OYXi"
   },
   "source": [
    "4.1 Plot Accuracy graphs, reflect on the results, and save the best performing model"
   ]
  },
  {
   "cell_type": "code",
   "execution_count": null,
   "id": "f1XgwszVOZpI",
   "metadata": {
    "id": "f1XgwszVOZpI"
   },
   "outputs": [],
   "source": []
  },
  {
   "cell_type": "markdown",
   "id": "3Y2m-f55OaEN",
   "metadata": {
    "id": "3Y2m-f55OaEN"
   },
   "source": [
    "4.2  Print the current budget at the end of your ML Ops cycle. Use the function `show_current_budget()` to show your current budget"
   ]
  },
  {
   "cell_type": "code",
   "execution_count": null,
   "id": "1kFxLAtIOhcD",
   "metadata": {
    "id": "1kFxLAtIOhcD",
    "tags": []
   },
   "outputs": [],
   "source": []
  },
  {
   "cell_type": "markdown",
   "id": "d037e99b-4742-4a13-9f0f-26cb543d7e77",
   "metadata": {
    "id": "d037e99b-4742-4a13-9f0f-26cb543d7e77",
    "tags": []
   },
   "source": [
    "# **AI Computer Vision Camp Project - Traffic Sign Detection - Application**"
   ]
  },
  {
   "cell_type": "markdown",
   "id": "d82d7651-393b-4659-ab83-5181a783f585",
   "metadata": {
    "id": "d82d7651-393b-4659-ab83-5181a783f585"
   },
   "source": [
    "## Now that you have trained and saved the AI model, your task is to design the GUI for a traffic sign detection application that can detect a traffic sign and predict the class the traffic sign in an uploaded video.\n",
    "<img style=\"float: center; /\"  width = \"1000\"  src=\"Notebook Images/ML-M2-Project-Image1.png\">\n"
   ]
  },
  {
   "cell_type": "markdown",
   "id": "a9540bff-429e-4f47-a95d-41f2f1cb14d2",
   "metadata": {},
   "source": [
    "### 1. Prepare Backend"
   ]
  },
  {
   "cell_type": "markdown",
   "id": "c5cb5089-4e4f-48af-be17-9fc7aff71147",
   "metadata": {},
   "source": [
    "#### 1.1 Load the pretrained model"
   ]
  },
  {
   "cell_type": "code",
   "execution_count": null,
   "id": "be76f770-b05f-46fc-b5fa-0aa489a475f5",
   "metadata": {},
   "outputs": [],
   "source": []
  },
  {
   "cell_type": "markdown",
   "id": "88c31131-9567-4cfb-8ab7-8f91e5502304",
   "metadata": {},
   "source": [
    "#### 1.2 Define a function to perform the detection and prediction"
   ]
  },
  {
   "cell_type": "code",
   "execution_count": null,
   "id": "aea6c05e-db82-4886-b06e-4d6c3c40cd75",
   "metadata": {},
   "outputs": [],
   "source": [
    "def detectSign(img):\n",
    "    # Get the contours of the image\n",
    "\n",
    "    # For each contour, get the rectangle\n",
    "    \n",
    "   \n",
    "    # return the image   \n",
    "    return img"
   ]
  },
  {
   "cell_type": "markdown",
   "id": "cfc63e96-64d2-4d17-aebc-b52920732499",
   "metadata": {
    "id": "cfc63e96-64d2-4d17-aebc-b52920732499",
    "tags": []
   },
   "source": [
    "### 2. Design a GUI for the application that includes:\n",
    "1. A main layout consisting of header, body and footer\n",
    "2. A title\n",
    "3. A load image button\n",
    "4. A Predict image button\n",
    "\n",
    "\n",
    "*Add or remove __20 $__ from your budget based on your predicition result*"
   ]
  },
  {
   "cell_type": "code",
   "execution_count": null,
   "id": "fd5ae606-9222-4705-9a31-6e8f728036c9",
   "metadata": {},
   "outputs": [],
   "source": [
    "def model_correct(button):\n"
   ]
  },
  {
   "cell_type": "code",
   "execution_count": null,
   "id": "e5342f89-7984-405e-b92e-26d36bfef64e",
   "metadata": {},
   "outputs": [],
   "source": [
    "def model_wrong(buttom):\n",
    "   "
   ]
  },
  {
   "cell_type": "code",
   "execution_count": null,
   "id": "60e76135-1136-4193-b3ed-28bdca6b4898",
   "metadata": {
    "deletable": false,
    "id": "60e76135-1136-4193-b3ed-28bdca6b4898",
    "tags": []
   },
   "outputs": [],
   "source": []
  },
  {
   "cell_type": "code",
   "execution_count": null,
   "id": "7f53f27d-96ce-4448-a1b5-7e3c472f548a",
   "metadata": {
    "id": "7f53f27d-96ce-4448-a1b5-7e3c472f548a",
    "tags": []
   },
   "outputs": [],
   "source": []
  }
 ],
 "metadata": {
  "colab": {
   "provenance": []
  },
  "kernelspec": {
   "display_name": "Python 3 (ipykernel)",
   "language": "python",
   "name": "python3"
  },
  "language_info": {
   "codemirror_mode": {
    "name": "ipython",
    "version": 3
   },
   "file_extension": ".py",
   "mimetype": "text/x-python",
   "name": "python",
   "nbconvert_exporter": "python",
   "pygments_lexer": "ipython3",
   "version": "3.9.7"
  }
 },
 "nbformat": 4,
 "nbformat_minor": 5
}
