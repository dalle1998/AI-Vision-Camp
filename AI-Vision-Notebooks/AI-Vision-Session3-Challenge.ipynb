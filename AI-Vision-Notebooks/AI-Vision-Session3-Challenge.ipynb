{
 "cells": [
  {
   "cell_type": "markdown",
   "id": "a7381731",
   "metadata": {
    "deletable": false,
    "slideshow": {
     "slide_type": ""
    },
    "tags": []
   },
   "source": [
    "## The previous Neural Networks model wasn't good enough so the company wants to try implementing CNN instead of regular neural networks. They are hoping to improve the accuracy of their solution.\n",
    "<img style=\"float: center; /\"  width = \"1000\"  src=\"Notebook Images/ML-M2-Session3-Challenge-Image1.png\">\n",
    "\n",
    "## Your task is to create, train and test a convolutional neural network on the fashion MNIST dataset which has 10 classes as shown bellow\n",
    "<img style=\"float: center; /\"  width = \"1000\"  src=\"Notebook Images/ML-M2-Session3-Challenge-Image2.png\">\n",
    "\n",
    "## What you need to do:\n",
    "1. Load & show the fashion MNSIT dataset alongside the project's budget\n",
    "2. Create & train a convolutional neural network model\n",
    "3. Test & evaluate the model"
   ]
  },
  {
   "cell_type": "markdown",
   "id": "8081ac33",
   "metadata": {
    "deletable": false,
    "editable": false,
    "id": 1
   },
   "source": [
    "### 1. Load & show the fashion MNIST dataset"
   ]
  },
  {
   "cell_type": "markdown",
   "id": "e16f312c",
   "metadata": {
    "deletable": false,
    "editable": false
   },
   "source": [
    "1.1 Load the dataset. filename = \"fashion_mnist\". Experiment with the data sizes = [10000, 30000, 60000]"
   ]
  },
  {
   "cell_type": "code",
   "execution_count": null,
   "id": "4bf5131c",
   "metadata": {
    "tags": []
   },
   "outputs": [],
   "source": []
  },
  {
   "cell_type": "markdown",
   "id": "87a822a9",
   "metadata": {
    "deletable": false,
    "editable": false
   },
   "source": [
    "1.2 Show the data in a table format"
   ]
  },
  {
   "cell_type": "code",
   "execution_count": null,
   "id": "61b18459",
   "metadata": {
    "tags": []
   },
   "outputs": [],
   "source": []
  },
  {
   "cell_type": "markdown",
   "id": "17811da6",
   "metadata": {
    "deletable": false,
    "editable": false,
    "id": 2
   },
   "source": [
    "### 2. Create & train a convolutional neural network"
   ]
  },
  {
   "cell_type": "markdown",
   "id": "8bfa8ff4",
   "metadata": {
    "deletable": false,
    "editable": false
   },
   "source": [
    "2.1 Split the dataset"
   ]
  },
  {
   "cell_type": "code",
   "execution_count": null,
   "id": "cf8bd69f",
   "metadata": {},
   "outputs": [],
   "source": []
  },
  {
   "cell_type": "markdown",
   "id": "7de01fbd",
   "metadata": {
    "deletable": false
   },
   "source": [
    "2.2 Create the CNN model"
   ]
  },
  {
   "cell_type": "code",
   "execution_count": null,
   "id": "5d0a0320",
   "metadata": {},
   "outputs": [],
   "source": []
  },
  {
   "cell_type": "markdown",
   "id": "117c127c",
   "metadata": {
    "deletable": false,
    "editable": false
   },
   "source": [
    "2.3 Create one fo the following architectures: </br>\n",
    "    - Conv - pooling </br>\n",
    "    - Conv - pooling - conv- pooling </br>\n",
    "Experiment with the following number of neurons per conv layer: [20, 40, 60]"
   ]
  },
  {
   "cell_type": "code",
   "execution_count": null,
   "id": "9a900c51",
   "metadata": {},
   "outputs": [],
   "source": []
  },
  {
   "cell_type": "markdown",
   "id": "9f6a017d",
   "metadata": {
    "deletable": false,
    "editable": false
   },
   "source": [
    "2.4 Train the model with 5 or 10 epochs"
   ]
  },
  {
   "cell_type": "code",
   "execution_count": null,
   "id": "2eeb546c",
   "metadata": {},
   "outputs": [],
   "source": []
  },
  {
   "cell_type": "markdown",
   "id": "8bae2eea",
   "metadata": {
    "deletable": false,
    "editable": false,
    "id": 3
   },
   "source": [
    "### 3. Test & Evaluate the model"
   ]
  },
  {
   "cell_type": "markdown",
   "id": "79f10729",
   "metadata": {
    "deletable": false,
    "editable": false
   },
   "source": [
    "3.1 Check the accuracy of the model"
   ]
  },
  {
   "cell_type": "code",
   "execution_count": null,
   "id": "7f8a5562",
   "metadata": {},
   "outputs": [],
   "source": []
  },
  {
   "cell_type": "markdown",
   "id": "a0bdb664",
   "metadata": {
    "deletable": false,
    "editable": false
   },
   "source": [
    "3.2 Show the confusion matrix"
   ]
  },
  {
   "cell_type": "code",
   "execution_count": null,
   "id": "6381ac49",
   "metadata": {},
   "outputs": [],
   "source": []
  },
  {
   "cell_type": "markdown",
   "id": "8bc9c4b7",
   "metadata": {
    "deletable": false,
    "editable": false
   },
   "source": [
    "3.3 Show the learning curve of the model"
   ]
  },
  {
   "cell_type": "code",
   "execution_count": null,
   "id": "8a1c18b9",
   "metadata": {},
   "outputs": [],
   "source": []
  }
 ],
 "metadata": {
  "kernelspec": {
   "display_name": "Python 3 (ipykernel)",
   "language": "python",
   "name": "python3"
  },
  "language_info": {
   "codemirror_mode": {
    "name": "ipython",
    "version": 3
   },
   "file_extension": ".py",
   "mimetype": "text/x-python",
   "name": "python",
   "nbconvert_exporter": "python",
   "pygments_lexer": "ipython3",
   "version": "3.9.7"
  }
 },
 "nbformat": 4,
 "nbformat_minor": 5
}
